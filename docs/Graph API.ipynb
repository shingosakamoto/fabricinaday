{
 "cells": [
  {
   "cell_type": "code",
   "execution_count": 2,
   "id": "b6468a3c-a2da-4c7c-bd01-15306bdde7bf",
   "metadata": {
    "jupyter": {
     "outputs_hidden": true
    },
    "microsoft": {
     "language": "python",
     "language_group": "synapse_pyspark"
    },
    "tags": [
     "parameters"
    ]
   },
   "outputs": [],
   "source": [
    "client_id = \"\"\n",
    "client_secret = \"\"\n",
    "tenant_id = \"\""
   ]
  },
  {
   "cell_type": "markdown",
   "id": "500929a4-57f6-45ba-a222-34b8474ddbcb",
   "metadata": {
    "microsoft": {
     "language": "python",
     "language_group": "synapse_pyspark"
    },
    "nteract": {
     "transient": {
      "deleting": false
     }
    }
   },
   "source": [
    "# 1. Acquire a access token"
   ]
  },
  {
   "cell_type": "code",
   "execution_count": 3,
   "id": "e8835d87-3a0a-48c8-8b02-a7acdc2f3e58",
   "metadata": {
    "microsoft": {
     "language": "python",
     "language_group": "synapse_pyspark"
    }
   },
   "outputs": [
    {
     "ename": "ValueError",
     "evalue": "Your given address (https://login.microsoftonline.com/) should consist of an https url with a minimum of one segment in a path: e.g. https://login.microsoftonline.com/{tenant} or https://{tenant_name}.ciamlogin.com/{tenant} or https://{tenant_name}.b2clogin.com/{tenant_name}.onmicrosoft.com/policy",
     "output_type": "error",
     "traceback": [
      "\u001b[31m---------------------------------------------------------------------------\u001b[39m",
      "\u001b[31mValueError\u001b[39m                                Traceback (most recent call last)",
      "\u001b[36mCell\u001b[39m\u001b[36m \u001b[39m\u001b[32mIn[3]\u001b[39m\u001b[32m, line 5\u001b[39m\n\u001b[32m      2\u001b[39m \u001b[38;5;28;01mimport\u001b[39;00m\u001b[38;5;250m \u001b[39m\u001b[34;01mrequests\u001b[39;00m\n\u001b[32m      4\u001b[39m \u001b[38;5;66;03m# Create a confidential client application\u001b[39;00m\n\u001b[32m----> \u001b[39m\u001b[32m5\u001b[39m app = \u001b[43mmsal\u001b[49m\u001b[43m.\u001b[49m\u001b[43mConfidentialClientApplication\u001b[49m\u001b[43m(\u001b[49m\n\u001b[32m      6\u001b[39m \u001b[43m    \u001b[49m\u001b[43mclient_id\u001b[49m\u001b[43m,\u001b[49m\n\u001b[32m      7\u001b[39m \u001b[43m    \u001b[49m\u001b[43mauthority\u001b[49m\u001b[43m=\u001b[49m\u001b[33;43mf\u001b[39;49m\u001b[33;43m\"\u001b[39;49m\u001b[33;43mhttps://login.microsoftonline.com/\u001b[39;49m\u001b[38;5;132;43;01m{\u001b[39;49;00m\u001b[43mtenant_id\u001b[49m\u001b[38;5;132;43;01m}\u001b[39;49;00m\u001b[33;43m\"\u001b[39;49m\u001b[43m,\u001b[49m\n\u001b[32m      8\u001b[39m \u001b[43m    \u001b[49m\u001b[43mclient_credential\u001b[49m\u001b[43m=\u001b[49m\u001b[43mclient_secret\u001b[49m\n\u001b[32m      9\u001b[39m \u001b[43m)\u001b[49m\n\u001b[32m     11\u001b[39m \u001b[38;5;66;03m# Acquire a token\u001b[39;00m\n\u001b[32m     12\u001b[39m result = app.acquire_token_for_client(scopes=[\u001b[33m\"\u001b[39m\u001b[33mhttps://graph.microsoft.com/.default\u001b[39m\u001b[33m\"\u001b[39m])\n",
      "\u001b[36mFile \u001b[39m\u001b[32mc:\\Users\\shsakam\\AppData\\Local\\miniconda3\\envs\\myenv312\\Lib\\site-packages\\msal\\application.py:631\u001b[39m, in \u001b[36mClientApplication.__init__\u001b[39m\u001b[34m(self, client_id, client_credential, authority, validate_authority, token_cache, http_client, verify, proxies, timeout, client_claims, app_name, app_version, client_capabilities, azure_region, exclude_scopes, http_cache, instance_discovery, allow_broker, enable_pii_log, oidc_authority)\u001b[39m\n\u001b[32m    629\u001b[39m \u001b[38;5;28;01mtry\u001b[39;00m:\n\u001b[32m    630\u001b[39m     authority_to_use = authority \u001b[38;5;129;01mor\u001b[39;00m \u001b[33m\"\u001b[39m\u001b[33mhttps://\u001b[39m\u001b[38;5;132;01m{}\u001b[39;00m\u001b[33m/common/\u001b[39m\u001b[33m\"\u001b[39m.format(WORLD_WIDE)\n\u001b[32m--> \u001b[39m\u001b[32m631\u001b[39m     \u001b[38;5;28mself\u001b[39m.authority = \u001b[43mAuthority\u001b[49m\u001b[43m(\u001b[49m\n\u001b[32m    632\u001b[39m \u001b[43m        \u001b[49m\u001b[43mauthority_to_use\u001b[49m\u001b[43m,\u001b[49m\n\u001b[32m    633\u001b[39m \u001b[43m        \u001b[49m\u001b[38;5;28;43mself\u001b[39;49m\u001b[43m.\u001b[49m\u001b[43mhttp_client\u001b[49m\u001b[43m,\u001b[49m\n\u001b[32m    634\u001b[39m \u001b[43m        \u001b[49m\u001b[43mvalidate_authority\u001b[49m\u001b[43m=\u001b[49m\u001b[43mvalidate_authority\u001b[49m\u001b[43m,\u001b[49m\n\u001b[32m    635\u001b[39m \u001b[43m        \u001b[49m\u001b[43minstance_discovery\u001b[49m\u001b[43m=\u001b[49m\u001b[38;5;28;43mself\u001b[39;49m\u001b[43m.\u001b[49m\u001b[43m_instance_discovery\u001b[49m\u001b[43m,\u001b[49m\n\u001b[32m    636\u001b[39m \u001b[43m        \u001b[49m\u001b[43moidc_authority_url\u001b[49m\u001b[43m=\u001b[49m\u001b[43moidc_authority\u001b[49m\u001b[43m,\u001b[49m\n\u001b[32m    637\u001b[39m \u001b[43m        \u001b[49m\u001b[43m)\u001b[49m\n\u001b[32m    638\u001b[39m \u001b[38;5;28;01mexcept\u001b[39;00m \u001b[38;5;167;01mValueError\u001b[39;00m:  \u001b[38;5;66;03m# Those are explicit authority validation errors\u001b[39;00m\n\u001b[32m    639\u001b[39m     \u001b[38;5;28;01mraise\u001b[39;00m\n",
      "\u001b[36mFile \u001b[39m\u001b[32mc:\\Users\\shsakam\\AppData\\Local\\miniconda3\\envs\\myenv312\\Lib\\site-packages\\msal\\authority.py:76\u001b[39m, in \u001b[36mAuthority.__init__\u001b[39m\u001b[34m(self, authority_url, http_client, validate_authority, instance_discovery, oidc_authority_url)\u001b[39m\n\u001b[32m     74\u001b[39m \u001b[38;5;28;01melse\u001b[39;00m:\n\u001b[32m     75\u001b[39m     logger.debug(\u001b[33m\"\u001b[39m\u001b[33mInitializing with Entra authority: \u001b[39m\u001b[38;5;132;01m%s\u001b[39;00m\u001b[33m\"\u001b[39m, authority_url)\n\u001b[32m---> \u001b[39m\u001b[32m76\u001b[39m     tenant_discovery_endpoint = \u001b[38;5;28;43mself\u001b[39;49m\u001b[43m.\u001b[49m\u001b[43m_initialize_entra_authority\u001b[49m\u001b[43m(\u001b[49m\n\u001b[32m     77\u001b[39m \u001b[43m        \u001b[49m\u001b[43mauthority_url\u001b[49m\u001b[43m,\u001b[49m\u001b[43m \u001b[49m\u001b[43mvalidate_authority\u001b[49m\u001b[43m,\u001b[49m\u001b[43m \u001b[49m\u001b[43minstance_discovery\u001b[49m\u001b[43m)\u001b[49m\n\u001b[32m     78\u001b[39m \u001b[38;5;28;01mtry\u001b[39;00m:\n\u001b[32m     79\u001b[39m     openid_config = tenant_discovery(\n\u001b[32m     80\u001b[39m         tenant_discovery_endpoint,\n\u001b[32m     81\u001b[39m         \u001b[38;5;28mself\u001b[39m._http_client)\n",
      "\u001b[36mFile \u001b[39m\u001b[32mc:\\Users\\shsakam\\AppData\\Local\\miniconda3\\envs\\myenv312\\Lib\\site-packages\\msal\\authority.py:121\u001b[39m, in \u001b[36mAuthority._initialize_entra_authority\u001b[39m\u001b[34m(self, authority_url, validate_authority, instance_discovery)\u001b[39m\n\u001b[32m    119\u001b[39m \u001b[38;5;28;01mif\u001b[39;00m \u001b[38;5;28misinstance\u001b[39m(authority_url, AuthorityBuilder):\n\u001b[32m    120\u001b[39m     authority_url = \u001b[38;5;28mstr\u001b[39m(authority_url)\n\u001b[32m--> \u001b[39m\u001b[32m121\u001b[39m authority, \u001b[38;5;28mself\u001b[39m.instance, tenant = \u001b[43mcanonicalize\u001b[49m\u001b[43m(\u001b[49m\u001b[43mauthority_url\u001b[49m\u001b[43m)\u001b[49m\n\u001b[32m    122\u001b[39m is_ciam = \u001b[38;5;28mself\u001b[39m.instance.endswith(_CIAM_DOMAIN_SUFFIX)\n\u001b[32m    123\u001b[39m \u001b[38;5;28mself\u001b[39m.is_adfs = tenant.lower() == \u001b[33m'\u001b[39m\u001b[33madfs\u001b[39m\u001b[33m'\u001b[39m \u001b[38;5;129;01mand\u001b[39;00m \u001b[38;5;129;01mnot\u001b[39;00m is_ciam\n",
      "\u001b[36mFile \u001b[39m\u001b[32mc:\\Users\\shsakam\\AppData\\Local\\miniconda3\\envs\\myenv312\\Lib\\site-packages\\msal\\authority.py:193\u001b[39m, in \u001b[36mcanonicalize\u001b[39m\u001b[34m(authority_or_auth_endpoint)\u001b[39m\n\u001b[32m    191\u001b[39m     \u001b[38;5;28;01mif\u001b[39;00m \u001b[38;5;28mlen\u001b[39m(parts) >= \u001b[32m2\u001b[39m \u001b[38;5;129;01mand\u001b[39;00m parts[\u001b[32m1\u001b[39m]:\n\u001b[32m    192\u001b[39m         \u001b[38;5;28;01mreturn\u001b[39;00m authority, authority.hostname, parts[\u001b[32m1\u001b[39m]\n\u001b[32m--> \u001b[39m\u001b[32m193\u001b[39m \u001b[38;5;28;01mraise\u001b[39;00m \u001b[38;5;167;01mValueError\u001b[39;00m(\n\u001b[32m    194\u001b[39m     \u001b[33m\"\u001b[39m\u001b[33mYour given address (\u001b[39m\u001b[38;5;132;01m%s\u001b[39;00m\u001b[33m) should consist of \u001b[39m\u001b[33m\"\u001b[39m\n\u001b[32m    195\u001b[39m     \u001b[33m\"\u001b[39m\u001b[33man https url with a minimum of one segment in a path: e.g. \u001b[39m\u001b[33m\"\u001b[39m\n\u001b[32m    196\u001b[39m     \u001b[33m\"\u001b[39m\u001b[33mhttps://login.microsoftonline.com/\u001b[39m\u001b[38;5;132;01m{tenant}\u001b[39;00m\u001b[33m \u001b[39m\u001b[33m\"\u001b[39m\n\u001b[32m    197\u001b[39m     \u001b[33m\"\u001b[39m\u001b[33mor https://\u001b[39m\u001b[38;5;132;01m{tenant_name}\u001b[39;00m\u001b[33m.ciamlogin.com/\u001b[39m\u001b[38;5;132;01m{tenant}\u001b[39;00m\u001b[33m \u001b[39m\u001b[33m\"\u001b[39m\n\u001b[32m    198\u001b[39m     \u001b[33m\"\u001b[39m\u001b[33mor https://\u001b[39m\u001b[38;5;132;01m{tenant_name}\u001b[39;00m\u001b[33m.b2clogin.com/\u001b[39m\u001b[38;5;132;01m{tenant_name}\u001b[39;00m\u001b[33m.onmicrosoft.com/policy\u001b[39m\u001b[33m\"\u001b[39m\n\u001b[32m    199\u001b[39m     % authority_or_auth_endpoint)\n",
      "\u001b[31mValueError\u001b[39m: Your given address (https://login.microsoftonline.com/) should consist of an https url with a minimum of one segment in a path: e.g. https://login.microsoftonline.com/{tenant} or https://{tenant_name}.ciamlogin.com/{tenant} or https://{tenant_name}.b2clogin.com/{tenant_name}.onmicrosoft.com/policy"
     ]
    }
   ],
   "source": [
    "import msal\n",
    "import requests\n",
    "\n",
    "# Create a confidential client application\n",
    "app = msal.ConfidentialClientApplication(\n",
    "    client_id,\n",
    "    authority=f\"https://login.microsoftonline.com/{tenant_id}\",\n",
    "    client_credential=client_secret\n",
    ")\n",
    "\n",
    "# Acquire a token\n",
    "result = app.acquire_token_for_client(scopes=[\"https://graph.microsoft.com/.default\"])\n",
    "\n",
    "if \"access_token\" in result:\n",
    "    access_token = result['access_token']\n",
    "    headers = {\n",
    "        'Authorization': f'Bearer {access_token}',\n",
    "        'Content-Type': 'application/json'\n",
    "    }\n",
    "else:\n",
    "    print(\"Error acquiring token:\", result.get(\"error\"), result.get(\"error_description\"))\n"
   ]
  },
  {
   "cell_type": "markdown",
   "id": "49e5da0c-0a6d-4106-96e0-5c96383ff67d",
   "metadata": {
    "microsoft": {
     "language": "python",
     "language_group": "synapse_pyspark"
    },
    "nteract": {
     "transient": {
      "deleting": false
     }
    }
   },
   "source": [
    "# 2. Graph API Call\n",
    "## 2-1. Get Users and the last SignIns in Security Groups"
   ]
  },
  {
   "cell_type": "code",
   "execution_count": 9,
   "id": "807942df-e050-4dad-b570-ea12dc4f8cf5",
   "metadata": {
    "microsoft": {
     "language": "python",
     "language_group": "synapse_pyspark"
    }
   },
   "outputs": [
    {
     "data": {
      "application/vnd.livy.statement-meta+json": {
       "execution_finish_time": "2025-03-25T02:16:02.0364509Z",
       "execution_start_time": "2025-03-25T02:16:01.800827Z",
       "livy_statement_state": "available",
       "normalized_state": "finished",
       "parent_msg_id": "a57b63b4-ddb5-4692-b54c-2223a571a341",
       "queued_time": "2025-03-25T02:16:01.7990911Z",
       "session_id": "88d3d111-ce16-4f30-998b-8af2f3ad7c3f",
       "session_start_time": null,
       "spark_pool": null,
       "state": "finished",
       "statement_id": 11,
       "statement_ids": [
        11
       ]
      },
      "text/plain": [
       "StatementMeta(, 88d3d111-ce16-4f30-998b-8af2f3ad7c3f, 11, Finished, Available, Finished)"
      ]
     },
     "metadata": {},
     "output_type": "display_data"
    }
   ],
   "source": [
    "import requests\n",
    "from pyspark.sql.types import StructType, StructField, StringType, IntegerType, ArrayType\n",
    "from pyspark.sql.functions import current_date, lower, expr, col"
   ]
  },
  {
   "cell_type": "code",
   "execution_count": 5,
   "id": "cb80da13-9e4d-42bb-b1b2-8e03bf6048b4",
   "metadata": {
    "collapsed": false,
    "microsoft": {
     "language": "python",
     "language_group": "synapse_pyspark"
    }
   },
   "outputs": [
    {
     "data": {
      "application/vnd.livy.statement-meta+json": {
       "execution_finish_time": "2025-03-25T02:10:39.0972252Z",
       "execution_start_time": "2025-03-25T02:09:54.8805929Z",
       "livy_statement_state": "available",
       "normalized_state": "finished",
       "parent_msg_id": "957cf4ce-a538-4a99-a62d-01cebfdf8e00",
       "queued_time": "2025-03-25T02:07:08.3799122Z",
       "session_id": "88d3d111-ce16-4f30-998b-8af2f3ad7c3f",
       "session_start_time": null,
       "spark_pool": null,
       "state": "finished",
       "statement_id": 7,
       "statement_ids": [
        7
       ]
      },
      "text/plain": [
       "StatementMeta(, 88d3d111-ce16-4f30-998b-8af2f3ad7c3f, 7, Finished, Available, Finished)"
      ]
     },
     "metadata": {},
     "output_type": "display_data"
    },
    {
     "name": "stdout",
     "output_type": "stream",
     "text": [
      "Processing group: All Users (074782bf-4e04-4a57-af0e-97e0c6a37d56)\n",
      "Processing group: PurviewGroup (636eb69b-0acd-4850-a7ec-08cbde71a672)\n"
     ]
    },
    {
     "data": {
      "application/vnd.synapse.widget-view+json": {
       "widget_id": "7631a2bc-b77d-4298-95b4-94dcb70a957f",
       "widget_type": "Synapse.DataFrame"
      },
      "text/plain": [
       "SynapseWidget(Synapse.DataFrame, 7631a2bc-b77d-4298-95b4-94dcb70a957f)"
      ]
     },
     "metadata": {},
     "output_type": "display_data"
    }
   ],
   "source": [
    "# Load security_groups table from Lakehouse\n",
    "df_groups = spark.read.table(\"security_groups\")\n",
    "groups_list = df_groups.select(\"group_id\", \"group_name\").collect()\n",
    "\n",
    "# Define schema for group users\n",
    "group_users_schema = StructType([\n",
    "    StructField(\"group_id\", StringType(), True),\n",
    "    StructField(\"group_name\", StringType(), True),\n",
    "    StructField(\"user_id\", StringType(), True),\n",
    "    StructField(\"userPrincipalName\", StringType(), True),\n",
    "    StructField(\"displayName\", StringType(), True),\n",
    "    StructField(\"lastSignInDateTime\", StringType(), True)\n",
    "])\n",
    "\n",
    "# Make sure to have access_token defined in advance\n",
    "# access_token = \"<Your_Access_Token>\"\n",
    "headers = {\n",
    "    'Authorization': f'Bearer {access_token}'\n",
    "}\n",
    "\n",
    "all_users_data = []\n",
    "\n",
    "# Loop through each group and fetch its members\n",
    "for group in groups_list:\n",
    "    group_id = group['group_id']\n",
    "    group_name = group['group_name']\n",
    "    \n",
    "    print(f\"Processing group: {group_name} ({group_id})\")\n",
    "\n",
    "    members_url = f\"https://graph.microsoft.com/v1.0/groups/{group_id}/members?$select=id,displayName,userPrincipalName\"\n",
    "    while True:\n",
    "        members_response = requests.get(members_url, headers=headers)\n",
    "        members_response.raise_for_status()\n",
    "        members_data = members_response.json()\n",
    "\n",
    "        # For each member, fetch sign-in activity\n",
    "        for member in members_data.get(\"value\", []):\n",
    "            if member.get(\"@odata.type\") == \"#microsoft.graph.user\":\n",
    "                user_id = member[\"id\"]\n",
    "\n",
    "                user_url = f\"https://graph.microsoft.com/beta/users/{user_id}?$select=displayName,userPrincipalName,signInActivity\"\n",
    "                user_response = requests.get(user_url, headers=headers)\n",
    "                user_response.raise_for_status()\n",
    "                user_data = user_response.json()\n",
    "\n",
    "                last_signin = user_data.get(\"signInActivity\", {}).get(\"lastSignInDateTime\", \"No Data\")\n",
    "\n",
    "                all_users_data.append({\n",
    "                    \"group_id\": group_id,\n",
    "                    \"group_name\": group_name,\n",
    "                    \"user_id\": user_id,\n",
    "                    \"userPrincipalName\": user_data.get(\"userPrincipalName\", \"\"),\n",
    "                    \"displayName\": user_data.get(\"displayName\", \"\"),\n",
    "                    \"lastSignInDateTime\": last_signin\n",
    "                })\n",
    "\n",
    "        # Handle pagination\n",
    "        next_link = members_data.get(\"@odata.nextLink\")\n",
    "        if next_link:\n",
    "            members_url = next_link\n",
    "        else:\n",
    "            break\n",
    "\n",
    "# Create DataFrame from collected user data\n",
    "df_group_users = spark.createDataFrame(all_users_data, schema=group_users_schema)\n",
    "\n",
    "# Add execution_date and domain_lc columns\n",
    "df_group_users = df_group_users.withColumn(\"execution_date\", current_date()) \\\n",
    "                                 .withColumn(\"domain_lc\", lower(expr(\"split(userPrincipalName, '@')[1]\")))\n",
    "\n",
    "# Save result as a Lakehouse table\n",
    "df_group_users.write.mode(\"overwrite\").saveAsTable(\"security_group_users\")\n",
    "\n",
    "display(df_group_users)\n"
   ]
  },
  {
   "cell_type": "markdown",
   "id": "ec68ecf1-d54b-4635-ab9c-9d9630c2ddd0",
   "metadata": {
    "microsoft": {
     "language": "python",
     "language_group": "synapse_pyspark"
    },
    "nteract": {
     "transient": {
      "deleting": false
     }
    }
   },
   "source": [
    "## 2-2. Get Subscribed Skus"
   ]
  },
  {
   "cell_type": "code",
   "execution_count": 10,
   "id": "424e4309-7714-49bd-a85b-306e78b3b02f",
   "metadata": {
    "collapsed": false,
    "microsoft": {
     "language": "python",
     "language_group": "synapse_pyspark"
    }
   },
   "outputs": [
    {
     "data": {
      "application/vnd.livy.statement-meta+json": {
       "execution_finish_time": "2025-03-25T02:16:16.2087967Z",
       "execution_start_time": "2025-03-25T02:16:08.5810356Z",
       "livy_statement_state": "available",
       "normalized_state": "finished",
       "parent_msg_id": "19b70239-ea78-4609-b5cb-ccee2567ba0e",
       "queued_time": "2025-03-25T02:16:08.5793149Z",
       "session_id": "88d3d111-ce16-4f30-998b-8af2f3ad7c3f",
       "session_start_time": null,
       "spark_pool": null,
       "state": "finished",
       "statement_id": 12,
       "statement_ids": [
        12
       ]
      },
      "text/plain": [
       "StatementMeta(, 88d3d111-ce16-4f30-998b-8af2f3ad7c3f, 12, Finished, Available, Finished)"
      ]
     },
     "metadata": {},
     "output_type": "display_data"
    },
    {
     "data": {
      "application/vnd.synapse.widget-view+json": {
       "widget_id": "5887f1e2-a3d0-4333-aed7-20d200780b71",
       "widget_type": "Synapse.DataFrame"
      },
      "text/plain": [
       "SynapseWidget(Synapse.DataFrame, 5887f1e2-a3d0-4333-aed7-20d200780b71)"
      ]
     },
     "metadata": {},
     "output_type": "display_data"
    }
   ],
   "source": [
    "# Define the schema\n",
    "schema_subscribedSkus = StructType([\n",
    "    StructField(\"accountName\", StringType(), True),\n",
    "    StructField(\"accountId\", StringType(), True),\n",
    "    StructField(\"appliesTo\", StringType(), True),\n",
    "    StructField(\"capabilityStatus\", StringType(), True),\n",
    "    StructField(\"consumedUnits\", IntegerType(), True),\n",
    "    StructField(\"id\", StringType(), True),\n",
    "    StructField(\"skuId\", StringType(), True),\n",
    "    StructField(\"skuPartNumber\", StringType(), True),\n",
    "    StructField(\"subscriptionIds\", ArrayType(StringType()), True),\n",
    "    StructField(\"prepaidUnits\", StructType([\n",
    "        StructField(\"enabled\", IntegerType(), True),\n",
    "        StructField(\"suspended\", IntegerType(), True),\n",
    "        StructField(\"warning\", IntegerType(), True),\n",
    "        StructField(\"lockedOut\", IntegerType(), True)\n",
    "    ])),\n",
    "    StructField(\"servicePlans\", ArrayType(StructType([\n",
    "        StructField(\"servicePlanId\", StringType(), True),\n",
    "        StructField(\"servicePlanName\", StringType(), True),\n",
    "        StructField(\"provisioningStatus\", StringType(), True),\n",
    "        StructField(\"appliesTo\", StringType(), True)\n",
    "    ])), True)\n",
    "])\n",
    "\n",
    "# Make a request to the Microsoft Graph API\n",
    "response = requests.get(f'https://graph.microsoft.com/v1.0/subscribedSkus', headers=headers)\n",
    "\n",
    "if response.status_code == 200:\n",
    "    #dataframes[f'df_{table_name}'] = response.json().get('value', [])\n",
    "    #print(dataframes[f'df_{table_name}'])\n",
    "    df_subscribedSkus = spark.createDataFrame(response.json().get('value', []), schema=schema_subscribedSkus)\n",
    "else:\n",
    "    print(f\"Error: {response.text}\")\n",
    "\n",
    "df_subscribedSkus_parsed = df_subscribedSkus.select(\n",
    "    \"skuId\",\n",
    "    col(\"prepaidUnits.enabled\").alias(\"enabled\"),\n",
    "    col(\"prepaidUnits.suspended\").alias(\"suspended\"),\n",
    "    col(\"prepaidUnits.warning\").alias(\"warning\"),\n",
    "    col(\"prepaidUnits.lockedOut\").alias(\"lockedOut\"),\n",
    ").withColumn(\"execution_date\", current_date())\n",
    "\n",
    "#print(response.json().get('value', []))\n",
    "display(df_subscribedSkus_parsed)\n"
   ]
  },
  {
   "cell_type": "markdown",
   "id": "1471c479-1fc0-4429-ab0a-eb3880ecf146",
   "metadata": {
    "microsoft": {
     "language": "python",
     "language_group": "synapse_pyspark"
    },
    "nteract": {
     "transient": {
      "deleting": false
     }
    }
   },
   "source": [
    "## 2-3. Get User License Assignments"
   ]
  },
  {
   "cell_type": "code",
   "execution_count": 11,
   "id": "f30f0c39-8dab-4b73-8c14-371eb72407e7",
   "metadata": {
    "collapsed": false,
    "microsoft": {
     "language": "python",
     "language_group": "synapse_pyspark"
    }
   },
   "outputs": [
    {
     "data": {
      "application/vnd.livy.statement-meta+json": {
       "execution_finish_time": "2025-03-25T02:16:37.4357262Z",
       "execution_start_time": "2025-03-25T02:16:35.1812966Z",
       "livy_statement_state": "available",
       "normalized_state": "finished",
       "parent_msg_id": "b03c1bd6-9c27-4dd3-adb9-62461f216106",
       "queued_time": "2025-03-25T02:16:35.179563Z",
       "session_id": "88d3d111-ce16-4f30-998b-8af2f3ad7c3f",
       "session_start_time": null,
       "spark_pool": null,
       "state": "finished",
       "statement_id": 13,
       "statement_ids": [
        13
       ]
      },
      "text/plain": [
       "StatementMeta(, 88d3d111-ce16-4f30-998b-8af2f3ad7c3f, 13, Finished, Available, Finished)"
      ]
     },
     "metadata": {},
     "output_type": "display_data"
    },
    {
     "data": {
      "application/vnd.synapse.widget-view+json": {
       "widget_id": "7c746695-d61f-4239-b66a-30fd19d09cb1",
       "widget_type": "Synapse.DataFrame"
      },
      "text/plain": [
       "SynapseWidget(Synapse.DataFrame, 7c746695-d61f-4239-b66a-30fd19d09cb1)"
      ]
     },
     "metadata": {},
     "output_type": "display_data"
    }
   ],
   "source": [
    "# Convert the collected data (all_users_data) to a DataFrame with a defined schema\n",
    "schema_assigned = StructType([\n",
    "    StructField(\"skuId\", StringType(), True),\n",
    "    StructField(\"userPrincipalName\", StringType(), True),\n",
    "    StructField(\"displayName\", StringType(), True),\n",
    "    StructField(\"domain\", StringType(), True),\n",
    "])\n",
    "\n",
    "def get_users_with_sku(access_token, sku_id):\n",
    "\n",
    "    endpoint = (\n",
    "        \"https://graph.microsoft.com/v1.0/users\"\n",
    "        f\"?$filter=assignedLicenses/any(a:a/skuId eq {sku_id})\"\n",
    "    )\n",
    "\n",
    "    headers = {\n",
    "        \"Authorization\": f\"Bearer {access_token}\",\n",
    "        \"Content-Type\": \"application/json\"\n",
    "    }\n",
    "\n",
    "    all_users = []\n",
    "    while True:\n",
    "        response = requests.get(endpoint, headers=headers)\n",
    "        data = response.json()\n",
    "\n",
    "        # Add the users from the current page\n",
    "        all_users.extend(data.get(\"value\", []))\n",
    "\n",
    "        # Check if there's another page of data\n",
    "        next_link = data.get(\"@odata.nextLink\")\n",
    "        if next_link:\n",
    "            endpoint = next_link\n",
    "        else:\n",
    "            break\n",
    "\n",
    "    return all_users\n",
    "\n",
    "# Retrieve all SKU IDs from df_skus (convert them into a Python list)\n",
    "sku_ids = [row[\"skuId\"] for row in df_subscribedSkus.collect()]\n",
    "\n",
    "# Temporary Python list to store data before creating the final DataFrame\n",
    "all_users_data = []\n",
    "\n",
    "for sku_id in sku_ids:\n",
    "    users_with_sku = get_users_with_sku(access_token, sku_id)\n",
    "    \n",
    "    for user in users_with_sku:\n",
    "        # Extract necessary information and store it in a list/dictionary format\n",
    "        upn = user[\"userPrincipalName\"]\n",
    "        display_name = user.get(\"displayName\", \"\")\n",
    "        Domain = upn.split(\"@\")[1]\n",
    "        \n",
    "        all_users_data.append({\n",
    "            \"skuId\": sku_id,\n",
    "            \"userPrincipalName\": upn,\n",
    "            \"displayName\": display_name,\n",
    "            \"domain\": Domain\n",
    "        })\n",
    "\n",
    "df_assigned_users = spark.createDataFrame(all_users_data, schema=schema_assigned)\n",
    "df_assigned_users_date = df_assigned_users.withColumn(\"execution_date\", current_date()) \\\n",
    "                                            .withColumn(\"domain_lc\",lower(df_assigned_users[\"domain\"]))\n",
    "\n",
    "display(df_assigned_users_date)"
   ]
  },
  {
   "cell_type": "markdown",
   "id": "b417a904-3af3-45d9-97a2-27722b3b20d2",
   "metadata": {
    "microsoft": {
     "language": "python",
     "language_group": "synapse_pyspark"
    },
    "nteract": {
     "transient": {
      "deleting": false
     }
    }
   },
   "source": [
    "# 3. Save Delta Table"
   ]
  },
  {
   "cell_type": "code",
   "execution_count": 12,
   "id": "0f2d4875-23ac-40f5-a6fe-9a2ab47129e4",
   "metadata": {
    "microsoft": {
     "language": "python",
     "language_group": "synapse_pyspark"
    }
   },
   "outputs": [
    {
     "data": {
      "application/vnd.livy.statement-meta+json": {
       "execution_finish_time": "2025-03-25T02:19:09.2733531Z",
       "execution_start_time": "2025-03-25T02:18:55.4461008Z",
       "livy_statement_state": "available",
       "normalized_state": "finished",
       "parent_msg_id": "d82e3d8c-afc0-42d3-b932-ae5ad46da15a",
       "queued_time": "2025-03-25T02:18:55.4444815Z",
       "session_id": "88d3d111-ce16-4f30-998b-8af2f3ad7c3f",
       "session_start_time": null,
       "spark_pool": null,
       "state": "finished",
       "statement_id": 14,
       "statement_ids": [
        14
       ]
      },
      "text/plain": [
       "StatementMeta(, 88d3d111-ce16-4f30-998b-8af2f3ad7c3f, 14, Finished, Available, Finished)"
      ]
     },
     "metadata": {},
     "output_type": "display_data"
    }
   ],
   "source": [
    "df_group_users.write.mode(\"overwrite\").format(\"delta\").saveAsTable(\"graph_group_users\")\n"
   ]
  },
  {
   "cell_type": "code",
   "execution_count": 14,
   "id": "b5f15b71-c814-47c3-ad36-d54db9b92b01",
   "metadata": {
    "microsoft": {
     "language": "python",
     "language_group": "synapse_pyspark"
    }
   },
   "outputs": [
    {
     "data": {
      "application/vnd.livy.statement-meta+json": {
       "execution_finish_time": "2025-03-25T02:19:39.0929198Z",
       "execution_start_time": "2025-03-25T02:19:34.4808979Z",
       "livy_statement_state": "available",
       "normalized_state": "finished",
       "parent_msg_id": "c9baf192-9f1f-4732-9ee2-8b87a59f4d2c",
       "queued_time": "2025-03-25T02:19:34.4793132Z",
       "session_id": "88d3d111-ce16-4f30-998b-8af2f3ad7c3f",
       "session_start_time": null,
       "spark_pool": null,
       "state": "finished",
       "statement_id": 16,
       "statement_ids": [
        16
       ]
      },
      "text/plain": [
       "StatementMeta(, 88d3d111-ce16-4f30-998b-8af2f3ad7c3f, 16, Finished, Available, Finished)"
      ]
     },
     "metadata": {},
     "output_type": "display_data"
    }
   ],
   "source": [
    "df_assigned_users_date.write.mode(\"overwrite\").format(\"delta\").saveAsTable(\"graph_assigned_users\")"
   ]
  },
  {
   "cell_type": "code",
   "execution_count": 15,
   "id": "fdcf9b0c-f8ef-47ca-9efd-464bb9b4142b",
   "metadata": {
    "microsoft": {
     "language": "python",
     "language_group": "synapse_pyspark"
    }
   },
   "outputs": [
    {
     "data": {
      "application/vnd.livy.statement-meta+json": {
       "execution_finish_time": "2025-03-25T02:19:46.5833545Z",
       "execution_start_time": "2025-03-25T02:19:41.8609717Z",
       "livy_statement_state": "available",
       "normalized_state": "finished",
       "parent_msg_id": "1004570e-6db6-4055-9a37-85d9780bb5b1",
       "queued_time": "2025-03-25T02:19:41.85936Z",
       "session_id": "88d3d111-ce16-4f30-998b-8af2f3ad7c3f",
       "session_start_time": null,
       "spark_pool": null,
       "state": "finished",
       "statement_id": 17,
       "statement_ids": [
        17
       ]
      },
      "text/plain": [
       "StatementMeta(, 88d3d111-ce16-4f30-998b-8af2f3ad7c3f, 17, Finished, Available, Finished)"
      ]
     },
     "metadata": {},
     "output_type": "display_data"
    }
   ],
   "source": [
    "df_subscribedSkus_parsed.write.mode(\"append\").format(\"delta\").saveAsTable(\"graph_subscribedSkus\")"
   ]
  }
 ],
 "metadata": {
  "dependencies": {
   "lakehouse": {
    "default_lakehouse": "ac7b22ed-9517-4b44-8ae4-8b5c90b51399",
    "default_lakehouse_name": "GraphDataConnect",
    "default_lakehouse_workspace_id": "fb6bb57e-a670-4d17-a68a-a1aa988ef351",
    "known_lakehouses": [
     {
      "id": "ac7b22ed-9517-4b44-8ae4-8b5c90b51399"
     }
    ]
   }
  },
  "kernel_info": {
   "name": "synapse_pyspark"
  },
  "kernelspec": {
   "display_name": "myenv312",
   "language": "python",
   "name": "python3"
  },
  "language_info": {
   "codemirror_mode": {
    "name": "ipython",
    "version": 3
   },
   "file_extension": ".py",
   "mimetype": "text/x-python",
   "name": "python",
   "nbconvert_exporter": "python",
   "pygments_lexer": "ipython3",
   "version": "3.12.9"
  },
  "microsoft": {
   "language": "python",
   "language_group": "synapse_pyspark",
   "ms_spell_check": {
    "ms_spell_check_language": "en"
   }
  },
  "nteract": {
   "version": "nteract-front-end@1.0.0"
  },
  "spark_compute": {
   "compute_id": "/trident/default",
   "session_options": {
    "conf": {
     "spark.synapse.nbs.session.timeout": "1200000"
    }
   }
  },
  "synapse_widget": {
   "state": {
    "5887f1e2-a3d0-4333-aed7-20d200780b71": {
     "persist_state": {
      "view": {
       "chartOptions": {
        "aggregationType": "sum",
        "binsNumber": 10,
        "categoryFieldKeys": [
         "0"
        ],
        "chartType": "bar",
        "evaluatesOverAllRecords": false,
        "isStacked": false,
        "seriesFieldKeys": [
         "1"
        ],
        "wordFrequency": "-1"
       },
       "tableOptions": {},
       "type": "details",
       "viewOptionsGroup": [
        {
         "tabItems": [
          {
           "key": "0",
           "name": "Table",
           "options": {},
           "type": "table"
          }
         ]
        }
       ]
      }
     },
     "sync_state": {
      "isSummary": false,
      "language": "scala",
      "table": {
       "rows": [
        {
         "0": "6470687e-a428-4b7a-bef2-8a291ad947c9",
         "1": "25",
         "2": "0",
         "3": "0",
         "4": "0",
         "5": "2025-03-25"
        },
        {
         "0": "606b54a9-78d8-4298-ad8b-df6ef4481c80",
         "1": "10000",
         "2": "0",
         "3": "0",
         "4": "0",
         "5": "2025-03-25"
        },
        {
         "0": "dcb1a3ae-b33f-4487-846a-a640262fadf4",
         "1": "10000",
         "2": "0",
         "3": "0",
         "4": "0",
         "5": "2025-03-25"
        },
        {
         "0": "84a661c4-e949-4bd2-a560-ed7766fcaf2b",
         "1": "100",
         "2": "0",
         "3": "0",
         "4": "0",
         "5": "2025-03-25"
        },
        {
         "0": "a403ebcc-fae0-4ca2-8c8c-7a907fd6c235",
         "1": "1000000",
         "2": "0",
         "3": "0",
         "4": "0",
         "5": "2025-03-25"
        },
        {
         "0": "47794cd0-f0e5-45c5-9033-2eb6b5fc84e0",
         "1": "10000000",
         "2": "0",
         "3": "0",
         "4": "0",
         "5": "2025-03-25"
        },
        {
         "0": "3ab6abff-666f-4424-bfb7-f0bc274ec7bc",
         "1": "0",
         "2": "2",
         "3": "0",
         "4": "0",
         "5": "2025-03-25"
        },
        {
         "0": "5b631642-bd26-49fe-bd20-1daaa972ef80",
         "1": "10000",
         "2": "0",
         "3": "0",
         "4": "0",
         "5": "2025-03-25"
        },
        {
         "0": "cdd28e44-67e3-425e-be4c-737fab2899d3",
         "1": "0",
         "2": "1",
         "3": "0",
         "4": "0",
         "5": "2025-03-25"
        }
       ],
       "schema": [
        {
         "key": "0",
         "name": "skuId",
         "type": "string"
        },
        {
         "key": "1",
         "name": "enabled",
         "type": "int"
        },
        {
         "key": "2",
         "name": "suspended",
         "type": "int"
        },
        {
         "key": "3",
         "name": "warning",
         "type": "int"
        },
        {
         "key": "4",
         "name": "lockedOut",
         "type": "int"
        },
        {
         "key": "5",
         "name": "execution_date",
         "type": "date"
        }
       ],
       "truncated": false
      }
     },
     "type": "Synapse.DataFrame"
    },
    "7631a2bc-b77d-4298-95b4-94dcb70a957f": {
     "persist_state": {
      "view": {
       "chartOptions": {
        "aggregationType": "count",
        "binsNumber": 10,
        "categoryFieldKeys": [
         "2"
        ],
        "chartType": "bar",
        "evaluatesOverAllRecords": false,
        "isStacked": false,
        "seriesFieldKeys": [
         "3"
        ],
        "wordFrequency": "-1"
       },
       "tableOptions": {},
       "type": "details",
       "viewOptionsGroup": [
        {
         "tabItems": [
          {
           "key": "0",
           "name": "Table",
           "options": {},
           "type": "table"
          }
         ]
        }
       ]
      }
     },
     "sync_state": {
      "isSummary": false,
      "language": "scala",
      "table": {
       "rows": [
        {
         "0": "074782bf-4e04-4a57-af0e-97e0c6a37d56",
         "1": "All Users",
         "2": "c9d2b232-e94f-4e80-ba1c-0ce3fab6030c",
         "3": "shingo.skmt_yahoo.com#EXT#@shingoskmtyahoo.onmicrosoft.com",
         "4": "Shingo Sakamoto",
         "5": "2025-02-27T15:03:15Z",
         "6": "2025-03-25",
         "7": "shingoskmtyahoo.onmicrosoft.com"
        },
        {
         "0": "074782bf-4e04-4a57-af0e-97e0c6a37d56",
         "1": "All Users",
         "2": "842a7374-1049-40d7-a931-e8987c574be8",
         "3": "shingo@shingoskmtyahoo.onmicrosoft.com",
         "4": "Shingo",
         "5": "2025-03-21T21:52:05Z",
         "6": "2025-03-25",
         "7": "shingoskmtyahoo.onmicrosoft.com"
        },
        {
         "0": "074782bf-4e04-4a57-af0e-97e0c6a37d56",
         "1": "All Users",
         "2": "b3e1ec88-5569-47d2-86c1-788f75a93682",
         "3": "songho@shingoskmtyahoo.onmicrosoft.com",
         "4": "Songho Park",
         "5": "2025-02-20T16:36:44Z",
         "6": "2025-03-25",
         "7": "shingoskmtyahoo.onmicrosoft.com"
        },
        {
         "0": "074782bf-4e04-4a57-af0e-97e0c6a37d56",
         "1": "All Users",
         "2": "a6a6f989-8e70-47fa-9d85-cf92bc96acbd",
         "3": "shsakam_microsoft.com#EXT#@shingoskmtyahoo.onmicrosoft.com",
         "4": "Shingo Sakamoto",
         "5": "2025-03-22T03:05:11Z",
         "6": "2025-03-25",
         "7": "shingoskmtyahoo.onmicrosoft.com"
        },
        {
         "0": "074782bf-4e04-4a57-af0e-97e0c6a37d56",
         "1": "All Users",
         "2": "92d272ac-5e64-4618-90f5-64b820db0d2a",
         "3": "user01@shingoskmtyahoo.onmicrosoft.com",
         "4": "user01",
         "5": "2025-03-21T18:23:11Z",
         "6": "2025-03-25",
         "7": "shingoskmtyahoo.onmicrosoft.com"
        },
        {
         "0": "074782bf-4e04-4a57-af0e-97e0c6a37d56",
         "1": "All Users",
         "2": "8c3cff4b-378e-4c60-8c6f-705ef90fc9b6",
         "3": "user03@shingoskmtyahoo.onmicrosoft.com",
         "4": "user03",
         "5": "No Data",
         "6": "2025-03-25",
         "7": "shingoskmtyahoo.onmicrosoft.com"
        },
        {
         "0": "074782bf-4e04-4a57-af0e-97e0c6a37d56",
         "1": "All Users",
         "2": "4b7ac0a0-d230-4899-ba26-3eebdc7e6396",
         "3": "user02@shingoskmtyahoo.onmicrosoft.com",
         "4": "user02",
         "5": "2025-03-21T02:34:22Z",
         "6": "2025-03-25",
         "7": "shingoskmtyahoo.onmicrosoft.com"
        },
        {
         "0": "074782bf-4e04-4a57-af0e-97e0c6a37d56",
         "1": "All Users",
         "2": "f578ec88-10fd-4b09-8905-3419bc3f9ba0",
         "3": "user04@shingoskmtyahoo.onmicrosoft.com",
         "4": "user04",
         "5": "No Data",
         "6": "2025-03-25",
         "7": "shingoskmtyahoo.onmicrosoft.com"
        },
        {
         "0": "074782bf-4e04-4a57-af0e-97e0c6a37d56",
         "1": "All Users",
         "2": "6e83450a-0f8c-4f06-9170-47eb2720e691",
         "3": "user05@shingoskmtyahoo.onmicrosoft.com",
         "4": "user05",
         "5": "No Data",
         "6": "2025-03-25",
         "7": "shingoskmtyahoo.onmicrosoft.com"
        },
        {
         "0": "074782bf-4e04-4a57-af0e-97e0c6a37d56",
         "1": "All Users",
         "2": "d8507bbb-b95e-4b1c-b22b-df88412e89ce",
         "3": "user08@shingoskmtyahoo.onmicrosoft.com",
         "4": "user08",
         "5": "No Data",
         "6": "2025-03-25",
         "7": "shingoskmtyahoo.onmicrosoft.com"
        },
        {
         "0": "074782bf-4e04-4a57-af0e-97e0c6a37d56",
         "1": "All Users",
         "2": "e391c3ab-250a-482f-842c-0524acf45a21",
         "3": "user06@shingoskmtyahoo.onmicrosoft.com",
         "4": "user06",
         "5": "No Data",
         "6": "2025-03-25",
         "7": "shingoskmtyahoo.onmicrosoft.com"
        },
        {
         "0": "074782bf-4e04-4a57-af0e-97e0c6a37d56",
         "1": "All Users",
         "2": "7756b448-01bd-43aa-b1fc-e2f9d96cbc15",
         "3": "user09@shingoskmtyahoo.onmicrosoft.com",
         "4": "user09",
         "5": "No Data",
         "6": "2025-03-25",
         "7": "shingoskmtyahoo.onmicrosoft.com"
        },
        {
         "0": "074782bf-4e04-4a57-af0e-97e0c6a37d56",
         "1": "All Users",
         "2": "e134341f-2329-4c44-9cb7-182e1e586a87",
         "3": "user10@shingoskmtyahoo.onmicrosoft.com",
         "4": "user10",
         "5": "No Data",
         "6": "2025-03-25",
         "7": "shingoskmtyahoo.onmicrosoft.com"
        },
        {
         "0": "074782bf-4e04-4a57-af0e-97e0c6a37d56",
         "1": "All Users",
         "2": "0b7ac048-142f-4643-906e-d072f6cea8e3",
         "3": "user07@shingoskmtyahoo.onmicrosoft.com",
         "4": "user07",
         "5": "No Data",
         "6": "2025-03-25",
         "7": "shingoskmtyahoo.onmicrosoft.com"
        },
        {
         "0": "074782bf-4e04-4a57-af0e-97e0c6a37d56",
         "1": "All Users",
         "2": "fec18447-b779-44e7-8130-2a1279252796",
         "3": "user12@shingoskmtyahoo.onmicrosoft.com",
         "4": "user12",
         "5": "No Data",
         "6": "2025-03-25",
         "7": "shingoskmtyahoo.onmicrosoft.com"
        },
        {
         "0": "074782bf-4e04-4a57-af0e-97e0c6a37d56",
         "1": "All Users",
         "2": "7c012117-616e-49cd-b05c-6a8e11a4b65a",
         "3": "user13@shingoskmtyahoo.onmicrosoft.com",
         "4": "user13",
         "5": "No Data",
         "6": "2025-03-25",
         "7": "shingoskmtyahoo.onmicrosoft.com"
        },
        {
         "0": "074782bf-4e04-4a57-af0e-97e0c6a37d56",
         "1": "All Users",
         "2": "fe7de413-324b-46f5-8ae7-6e608ed0ba01",
         "3": "user11@shingoskmtyahoo.onmicrosoft.com",
         "4": "user11",
         "5": "No Data",
         "6": "2025-03-25",
         "7": "shingoskmtyahoo.onmicrosoft.com"
        },
        {
         "0": "074782bf-4e04-4a57-af0e-97e0c6a37d56",
         "1": "All Users",
         "2": "8195a30f-495b-444a-adbc-5a88b9e1e6b0",
         "3": "user14@shingoskmtyahoo.onmicrosoft.com",
         "4": "user14",
         "5": "No Data",
         "6": "2025-03-25",
         "7": "shingoskmtyahoo.onmicrosoft.com"
        },
        {
         "0": "074782bf-4e04-4a57-af0e-97e0c6a37d56",
         "1": "All Users",
         "2": "e1c85b91-70cd-46dd-9918-0512dd63ea5e",
         "3": "user15@shingoskmtyahoo.onmicrosoft.com",
         "4": "user15",
         "5": "No Data",
         "6": "2025-03-25",
         "7": "shingoskmtyahoo.onmicrosoft.com"
        },
        {
         "0": "636eb69b-0acd-4850-a7ec-08cbde71a672",
         "1": "PurviewGroup",
         "2": "842a7374-1049-40d7-a931-e8987c574be8",
         "3": "shingo@shingoskmtyahoo.onmicrosoft.com",
         "4": "Shingo",
         "5": "2025-03-21T21:52:05Z",
         "6": "2025-03-25",
         "7": "shingoskmtyahoo.onmicrosoft.com"
        }
       ],
       "schema": [
        {
         "key": "0",
         "name": "group_id",
         "type": "string"
        },
        {
         "key": "1",
         "name": "group_name",
         "type": "string"
        },
        {
         "key": "2",
         "name": "user_id",
         "type": "string"
        },
        {
         "key": "3",
         "name": "userPrincipalName",
         "type": "string"
        },
        {
         "key": "4",
         "name": "displayName",
         "type": "string"
        },
        {
         "key": "5",
         "name": "lastSignInDateTime",
         "type": "string"
        },
        {
         "key": "6",
         "name": "execution_date",
         "type": "date"
        },
        {
         "key": "7",
         "name": "domain_lc",
         "type": "string"
        }
       ],
       "truncated": false
      }
     },
     "type": "Synapse.DataFrame"
    },
    "7c746695-d61f-4239-b66a-30fd19d09cb1": {
     "persist_state": {
      "view": {
       "chartOptions": {
        "aggregationType": "count",
        "binsNumber": 10,
        "categoryFieldKeys": [
         "0"
        ],
        "chartType": "bar",
        "evaluatesOverAllRecords": false,
        "isStacked": false,
        "seriesFieldKeys": [
         "1"
        ],
        "wordFrequency": "-1"
       },
       "tableOptions": {},
       "type": "details",
       "viewOptionsGroup": [
        {
         "tabItems": [
          {
           "key": "0",
           "name": "Table",
           "options": {},
           "type": "table"
          }
         ]
        }
       ]
      }
     },
     "sync_state": {
      "isSummary": false,
      "language": "scala",
      "table": {
       "rows": [
        {
         "0": "606b54a9-78d8-4298-ad8b-df6ef4481c80",
         "1": "shingo@shingoskmtyahoo.onmicrosoft.com",
         "2": "Shingo",
         "3": "shingoskmtyahoo.onmicrosoft.com",
         "4": "2025-03-25",
         "5": "shingoskmtyahoo.onmicrosoft.com"
        },
        {
         "0": "dcb1a3ae-b33f-4487-846a-a640262fadf4",
         "1": "shingo@shingoskmtyahoo.onmicrosoft.com",
         "2": "Shingo",
         "3": "shingoskmtyahoo.onmicrosoft.com",
         "4": "2025-03-25",
         "5": "shingoskmtyahoo.onmicrosoft.com"
        },
        {
         "0": "a403ebcc-fae0-4ca2-8c8c-7a907fd6c235",
         "1": "shingo@shingoskmtyahoo.onmicrosoft.com",
         "2": "Shingo",
         "3": "shingoskmtyahoo.onmicrosoft.com",
         "4": "2025-03-25",
         "5": "shingoskmtyahoo.onmicrosoft.com"
        },
        {
         "0": "a403ebcc-fae0-4ca2-8c8c-7a907fd6c235",
         "1": "songho@shingoskmtyahoo.onmicrosoft.com",
         "2": "Songho Park",
         "3": "shingoskmtyahoo.onmicrosoft.com",
         "4": "2025-03-25",
         "5": "shingoskmtyahoo.onmicrosoft.com"
        },
        {
         "0": "a403ebcc-fae0-4ca2-8c8c-7a907fd6c235",
         "1": "user01@shingoskmtyahoo.onmicrosoft.com",
         "2": "user01",
         "3": "shingoskmtyahoo.onmicrosoft.com",
         "4": "2025-03-25",
         "5": "shingoskmtyahoo.onmicrosoft.com"
        },
        {
         "0": "a403ebcc-fae0-4ca2-8c8c-7a907fd6c235",
         "1": "user02@shingoskmtyahoo.onmicrosoft.com",
         "2": "user02",
         "3": "shingoskmtyahoo.onmicrosoft.com",
         "4": "2025-03-25",
         "5": "shingoskmtyahoo.onmicrosoft.com"
        }
       ],
       "schema": [
        {
         "key": "0",
         "name": "skuId",
         "type": "string"
        },
        {
         "key": "1",
         "name": "userPrincipalName",
         "type": "string"
        },
        {
         "key": "2",
         "name": "displayName",
         "type": "string"
        },
        {
         "key": "3",
         "name": "domain",
         "type": "string"
        },
        {
         "key": "4",
         "name": "execution_date",
         "type": "date"
        },
        {
         "key": "5",
         "name": "domain_lc",
         "type": "string"
        }
       ],
       "truncated": false
      }
     },
     "type": "Synapse.DataFrame"
    }
   },
   "version": "0.1"
  }
 },
 "nbformat": 4,
 "nbformat_minor": 5
}
