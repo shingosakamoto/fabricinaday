{
 "cells": [
  {
   "cell_type": "markdown",
   "id": "dcf14b7f-f9f4-430d-91ec-273afe37e517",
   "metadata": {
    "nteract": {
     "transient": {
      "deleting": false
     }
    }
   },
   "source": [
    "# Azure Open AI in fabric\n",
    "\n",
    "- Refer to: https://learn.microsoft.com/en-us/fabric/data-science/open-ai"
   ]
  },
  {
   "cell_type": "markdown",
   "id": "d2f3596c-f5a5-4687-9c5e-bc0da6fc3be3",
   "metadata": {
    "nteract": {
     "transient": {
      "deleting": false
     }
    }
   },
   "source": [
    "## Pre-requisites:\n",
    "- Check if openai python SDK and other packages are installed and available in the environment you are using. \n",
    "- Install other dependencies as needed.\n",
    "- OpenAI and SynapseML are pre-installed in Fabric (preview)\n",
    "- Create folder \"unstructured_data\" under \"Files\" in the pinned Lakehouse\n",
    "- Upload \"resume.txt\" provided with the lab assets into \"unstructured_data\" folder\n",
    "- Ensure Spark 1.2 Environment is being used at the workspace settings"
   ]
  },
  {
   "cell_type": "code",
   "execution_count": 1,
   "id": "a96aeeff-bd43-4652-8e16-72901d4a44aa",
   "metadata": {
    "microsoft": {
     "language": "python",
     "language_group": "synapse_pyspark"
    }
   },
   "outputs": [
    {
     "data": {
      "application/vnd.livy.statement-meta+json": {
       "execution_finish_time": "2025-04-23T15:51:38.7372466Z",
       "execution_start_time": "2025-04-23T15:51:32.5364383Z",
       "livy_statement_state": "available",
       "normalized_state": "finished",
       "parent_msg_id": "5c902e81-46b0-4aa1-b9c0-46c5596da674",
       "queued_time": "2025-04-23T15:51:28.4099309Z",
       "session_id": "c94e35b6-5aa8-430f-96f7-c4febc000bcf",
       "session_start_time": null,
       "spark_pool": null,
       "state": "finished",
       "statement_id": 3,
       "statement_ids": [
        3
       ]
      },
      "text/plain": [
       "StatementMeta(, c94e35b6-5aa8-430f-96f7-c4febc000bcf, 3, Finished, Available, Finished)"
      ]
     },
     "metadata": {},
     "output_type": "display_data"
    },
    {
     "name": "stdout",
     "output_type": "stream",
     "text": [
      "Package                       Version\r\n",
      "----------------------------- --------------------\r\n",
      "absl-py                       2.0.0\r\n",
      "adal                          1.2.7\r\n",
      "adlfs                         2023.4.0\r\n",
      "aiohttp                       3.8.6\r\n",
      "aiosignal                     1.3.1\r\n",
      "alembic                       1.12.0\r\n",
      "ansi2html                     0.0.0\r\n",
      "anyio                         3.7.1\r\n",
      "appdirs                       1.4.4\r\n",
      "argon2-cffi                   23.1.0\r\n",
      "argon2-cffi-bindings          21.2.0\r\n",
      "arrow                         1.3.0\r\n",
      "astor                         0.8.1\r\n",
      "asttokens                     2.4.0\r\n",
      "astunparse                    1.6.3\r\n",
      "async-timeout                 4.0.3\r\n",
      "attrs                         23.1.0\r\n",
      "autopage                      0.5.2\r\n",
      "azure-core                    1.29.4\r\n",
      "azure-datalake-store          0.0.51\r\n",
      "azure-identity                1.14.1\r\n",
      "azure-storage-blob            12.18.3\r\n",
      "azure-storage-file-datalake   12.12.0\r\n",
      "azure-synapse-ml-predict      1.0.0\r\n",
      "azureml-synapse               0.0.1\r\n",
      "backcall                      0.2.0\r\n",
      "backoff                       1.11.1\r\n",
      "backports.functools-lru-cache 1.6.5\r\n",
      "bcrypt                        4.0.1\r\n",
      "beautifulsoup4                4.12.2\r\n",
      "bleach                        6.1.0\r\n",
      "blinker                       1.6.3\r\n",
      "Brotli                        1.0.9\r\n",
      "cached-property               1.5.2\r\n",
      "cachetools                    5.3.2\r\n",
      "catboost                      1.1.1\r\n",
      "certifi                       2023.7.22\r\n",
      "cffi                          1.16.0\r\n",
      "charset-normalizer            3.3.1\r\n",
      "chat-magics                   0.1.25.2.25\r\n",
      "chat-magics-fabric            0.2.0.25.2.26\r\n",
      "chroma-hnswlib                0.7.3\r\n",
      "chromadb                      0.4.13\r\n",
      "click                         8.1.7\r\n",
      "cliff                         4.2.0\r\n",
      "cloudpickle                   2.2.1\r\n",
      "clr-loader                    0.2.6\r\n",
      "cmaes                         0.10.0\r\n",
      "cmd2                          2.4.3\r\n",
      "colorama                      0.4.6\r\n",
      "coloredlogs                   15.0.1\r\n",
      "colorlog                      6.7.0\r\n",
      "comm                          0.1.4\r\n",
      "conda-package-handling        2.2.0\r\n",
      "conda_package_streaming       0.9.0\r\n",
      "configparser                  5.3.0\r\n",
      "contextlib2                   21.6.0\r\n",
      "contourpy                     1.1.1\r\n",
      "cryptography                  41.0.5\r\n",
      "cycler                        0.12.1\r\n",
      "Cython                        3.0.4\r\n",
      "dash                          2.14.0\r\n",
      "dash-core-components          2.0.0\r\n",
      "dash-cytoscape                0.2.0\r\n",
      "dash-html-components          2.0.0\r\n",
      "dash-table                    5.0.0\r\n",
      "databricks-cli                0.18.0\r\n",
      "dataclasses                   0.8\r\n",
      "datasets                      2.14.6\r\n",
      "debugpy                       1.8.0\r\n",
      "decorator                     5.1.1\r\n",
      "defusedxml                    0.7.1\r\n",
      "dill                          0.3.7\r\n",
      "diskcache                     5.6.3\r\n",
      "distlib                       0.3.7\r\n",
      "docker                        6.1.3\r\n",
      "docker-pycreds                0.4.0\r\n",
      "ds_copilot                    0.1.25.2.25\r\n",
      "dscopilot-installer           0.0.9\r\n",
      "entrypoints                   0.4\r\n",
      "et-xmlfile                    1.1.0\r\n",
      "exceptiongroup                1.1.3\r\n",
      "executing                     1.2.0\r\n",
      "fabric-connection             0.2.0\r\n",
      "fastapi                       0.103.2\r\n",
      "fastjsonschema                2.18.1\r\n",
      "filelock                      3.11.0\r\n",
      "FLAML                         2.3.3.post3\r\n",
      "Flask                         3.0.0\r\n",
      "flatbuffers                   23.5.26\r\n",
      "fluent-logger                 0.10.0\r\n",
      "fonttools                     4.43.1\r\n",
      "fqdn                          1.5.1\r\n",
      "frozenlist                    1.4.0\r\n",
      "fsspec                        2023.10.0\r\n",
      "fsspec_wrapper                0.1.15\r\n",
      "gast                          0.4.0\r\n",
      "geographiclib                 1.52\r\n",
      "geopy                         2.3.0\r\n",
      "gevent                        23.9.0.post1\r\n",
      "gitdb                         4.0.11\r\n",
      "GitPython                     3.1.40\r\n",
      "gmpy2                         2.1.2\r\n",
      "google-auth                   2.23.3\r\n",
      "google-auth-oauthlib          1.0.0\r\n",
      "google-pasta                  0.2.0\r\n",
      "graphviz                      0.20.1\r\n",
      "greenlet                      3.0.1\r\n",
      "grpcio                        1.54.3\r\n",
      "gson                          0.0.3\r\n",
      "h11                           0.14.0\r\n",
      "h5py                          3.10.0\r\n",
      "holidays                      0.35\r\n",
      "html5lib                      1.1\r\n",
      "huggingface-hub               0.18.0\r\n",
      "humanfriendly                 10.0\r\n",
      "idna                          3.4\r\n",
      "imageio                       2.31.1\r\n",
      "importlib-metadata            6.8.0\r\n",
      "importlib-resources           6.1.0\r\n",
      "impulse-python-handler        1.0.22.1.0.0\r\n",
      "interpret                     0.4.3\r\n",
      "interpret-core                0.4.3\r\n",
      "ipykernel                     6.26.0\r\n",
      "ipython                       8.14.0\r\n",
      "ipywidgets                    8.0.7\r\n",
      "isodate                       0.6.1\r\n",
      "isoduration                   20.11.0\r\n",
      "itsdangerous                  2.1.2\r\n",
      "jaraco.context                4.3.0\r\n",
      "jax                           0.4.17\r\n",
      "jaxlib                        0.4.14\r\n",
      "jedi                          0.19.1\r\n",
      "Jinja2                        3.1.2\r\n",
      "joblib                        1.3.2\r\n",
      "joblibspark                   0.5.2\r\n",
      "json-tricks                   3.17.3\r\n",
      "jsonpointer                   2.4\r\n",
      "jsonschema                    4.19.1\r\n",
      "jsonschema-specifications     2023.7.1\r\n",
      "jupyter_client                8.5.0\r\n",
      "jupyter_core                  5.4.0\r\n",
      "jupyter-events                0.8.0\r\n",
      "jupyter_server                2.7.3\r\n",
      "jupyter_server_terminals      0.4.4\r\n",
      "jupyter-ui-poll               0.2.2\r\n",
      "jupyterlab-pygments           0.2.2\r\n",
      "jupyterlab-widgets            3.0.9\r\n",
      "keras                         2.12.0\r\n",
      "Keras-Preprocessing           1.1.2\r\n",
      "kiwisolver                    1.4.5\r\n",
      "liac-arff                     2.5.0\r\n",
      "library-metadata-cooker       3.4.1.2\r\n",
      "lightgbm                      4.0.0\r\n",
      "lime                          0.2.0.1\r\n",
      "llvmlite                      0.40.1\r\n",
      "lxml                          4.9.3\r\n",
      "Mako                          1.2.4\r\n",
      "Markdown                      3.4.4\r\n",
      "markdown-it-py                3.0.0\r\n",
      "MarkupSafe                    2.1.3\r\n",
      "matplotlib                    3.7.2\r\n",
      "matplotlib-inline             0.1.6\r\n",
      "mdurl                         0.1.0\r\n",
      "mistune                       3.0.1\r\n",
      "mkl-fft                       1.3.1\r\n",
      "mkl-random                    1.2.2\r\n",
      "mkl-service                   2.4.0\r\n",
      "ml-dtypes                     0.3.1\r\n",
      "mlflow-skinny                 2.6.0\r\n",
      "monotonic                     1.5\r\n",
      "more-itertools                10.1.0\r\n",
      "mpmath                        1.3.0\r\n",
      "msal                          1.24.1\r\n",
      "msal-extensions               1.0.0\r\n",
      "msgpack                       1.0.7\r\n",
      "multidict                     6.0.4\r\n",
      "multiprocess                  0.70.15\r\n",
      "munkres                       1.1.4\r\n",
      "mypy                          1.4.1\r\n",
      "mypy-extensions               1.0.0\r\n",
      "nbclient                      0.8.0\r\n",
      "nbconvert                     7.9.2\r\n",
      "nbformat                      5.9.2\r\n",
      "nest-asyncio                  1.5.8\r\n",
      "networkx                      3.2\r\n",
      "nltk                          3.8.1\r\n",
      "nni                           2.10.1\r\n",
      "notebookutils                 1.1.10.34.20250317.2\r\n",
      "numba                         0.57.1\r\n",
      "numpy                         1.24.3\r\n",
      "oauthlib                      3.2.2\r\n",
      "onnxruntime                   1.16.1\r\n",
      "openai                        0.27.8\r\n",
      "openpyxl                      3.1.2\r\n",
      "opt-einsum                    3.3.0\r\n",
      "optuna                        2.8.0\r\n",
      "overrides                     7.4.0\r\n",
      "packaging                     23.2\r\n",
      "pandas                        2.0.3\r\n",
      "pandas-stubs                  2.1.1.230928\r\n",
      "pandasql                      0.7.3\r\n",
      "pandocfilters                 1.5.0\r\n",
      "paramiko                      3.3.1\r\n",
      "parso                         0.8.3\r\n",
      "pathos                        0.3.1\r\n",
      "pathtools                     0.1.2\r\n",
      "patsy                         0.5.3\r\n",
      "pbr                           5.11.1\r\n",
      "pexpect                       4.8.0\r\n",
      "pickleshare                   0.7.5\r\n",
      "Pillow                        10.0.1\r\n",
      "pip                           23.1.2\r\n",
      "pkgutil_resolve_name          1.3.10\r\n",
      "platformdirs                  3.5.1\r\n",
      "plotly                        5.16.1\r\n",
      "ply                           3.11\r\n",
      "pooch                         1.8.0\r\n",
      "portalocker                   2.8.2\r\n",
      "posthog                       3.0.2\r\n",
      "powerbiclient                 3.1.1\r\n",
      "pox                           0.3.3\r\n",
      "ppft                          1.7.6.7\r\n",
      "prettytable                   3.8.0\r\n",
      "prometheus-client             0.17.1\r\n",
      "prompt-toolkit                3.0.39\r\n",
      "protobuf                      4.21.12\r\n",
      "psutil                        5.9.5\r\n",
      "ptyprocess                    0.7.0\r\n",
      "pulsar-client                 3.3.0\r\n",
      "pure-eval                     0.2.2\r\n",
      "py4j                          0.10.9.7\r\n",
      "pyarrow                       12.0.1\r\n",
      "pyasn1                        0.5.0\r\n",
      "pyasn1-modules                0.3.0\r\n",
      "pycosat                       0.6.6\r\n",
      "pycparser                     2.21\r\n",
      "pydantic                      1.10.9\r\n",
      "Pygments                      2.16.1\r\n",
      "PyJWT                         2.8.0\r\n",
      "PyNaCl                        1.5.0\r\n",
      "pyodbc                        4.0.39\r\n",
      "pyOpenSSL                     23.2.0\r\n",
      "pyparsing                     3.0.9\r\n",
      "pyperclip                     1.8.2\r\n",
      "PyPika                        0.48.9\r\n",
      "PyQt5                         5.15.9\r\n",
      "PyQt5-sip                     12.12.2\r\n",
      "PySocks                       1.7.1\r\n",
      "pyspark                       3.4.1.5.3.20230713\r\n",
      "python-dateutil               2.8.2\r\n",
      "python-json-logger            2.0.7\r\n",
      "pythonnet                     3.0.1\r\n",
      "PythonWebHDFS                 0.2.3\r\n",
      "pytz                          2023.3.post1\r\n",
      "pyu2f                         0.1.5\r\n",
      "PyYAML                        6.0.1\r\n",
      "pyzmq                         25.1.1\r\n",
      "referencing                   0.30.2\r\n",
      "regex                         2023.8.8\r\n",
      "requests                      2.31.0\r\n",
      "requests-oauthlib             1.3.1\r\n",
      "responses                     0.23.3\r\n",
      "retrying                      1.3.3\r\n",
      "rfc3339-validator             0.1.4\r\n",
      "rfc3986-validator             0.1.1\r\n",
      "rich                          13.6.0\r\n",
      "rouge-score                   0.1.2\r\n",
      "rpds-py                       0.10.6\r\n",
      "rsa                           4.9\r\n",
      "ruamel.yaml                   0.17.32\r\n",
      "ruamel.yaml.clib              0.2.7\r\n",
      "ruamel-yaml-conda             0.15.80\r\n",
      "sacremoses                    0.0.53\r\n",
      "SALib                         1.4.7\r\n",
      "schema                        0.7.5\r\n",
      "scikit-learn                  1.3.0\r\n",
      "scipy                         1.10.1\r\n",
      "seaborn                       0.12.2\r\n",
      "semantic-link-sempy           0.9.0\r\n",
      "Send2Trash                    1.8.2\r\n",
      "sentence-transformers         2.0.0\r\n",
      "sentry-sdk                    1.32.0\r\n",
      "seqeval                       1.2.2\r\n",
      "setproctitle                  1.3.3\r\n",
      "setuptools                    68.2.2\r\n",
      "shap                          0.42.1\r\n",
      "shellingham                   1.5.4\r\n",
      "simplejson                    3.19.2\r\n",
      "sip                           6.7.12\r\n",
      "six                           1.16.0\r\n",
      "slicer                        0.0.7\r\n",
      "smmap                         5.0.0\r\n",
      "sniffio                       1.3.0\r\n",
      "soupsieve                     2.5\r\n",
      "SQLAlchemy                    2.0.22\r\n",
      "sqlanalyticsconnectorpy       1.0.1\r\n",
      "sqlanalyticsfabricconnectorpy 1.0.0\r\n",
      "sqlparse                      0.4.4\r\n",
      "stack-data                    0.6.2\r\n",
      "starlette                     0.27.0\r\n",
      "statsmodels                   0.14.0\r\n",
      "stevedore                     5.1.0\r\n",
      "sympy                         1.12\r\n",
      "synapseml-cognitive           1.0.9\r\n",
      "synapseml-core                1.0.9\r\n",
      "synapseml-deep-learning       1.0.9\r\n",
      "synapseml-internal            1.0.9.0.dev1\r\n",
      "synapseml-lightgbm            1.0.9\r\n",
      "synapseml-mlflow              1.0.30.post1\r\n",
      "synapseml-opencv              1.0.9\r\n",
      "synapseml_utils               1.0.26\r\n",
      "synapseml-vw                  1.0.9\r\n",
      "tabulate                      0.9.0\r\n",
      "tenacity                      8.2.3\r\n",
      "tensorboard                   2.12.3\r\n",
      "tensorboard-data-server       0.7.0\r\n",
      "tensorflow                    2.12.1\r\n",
      "tensorflow-estimator          2.12.0\r\n",
      "termcolor                     2.3.0\r\n",
      "terminado                     0.17.1\r\n",
      "threadpoolctl                 3.2.0\r\n",
      "tiktoken                      0.5.1\r\n",
      "tinycss2                      1.2.1\r\n",
      "tokenizers                    0.13.3\r\n",
      "toml                          0.10.2\r\n",
      "tomli                         2.0.1\r\n",
      "toolz                         0.12.0\r\n",
      "torch                         2.0.1\r\n",
      "tornado                       6.3.3\r\n",
      "tqdm                          4.66.1\r\n",
      "traitlets                     5.12.0\r\n",
      "transformers                  4.26.0\r\n",
      "treeinterpreter               0.2.2\r\n",
      "typed-ast                     1.5.5\r\n",
      "typeguard                     2.13.3\r\n",
      "typer                         0.9.0\r\n",
      "types-python-dateutil         2.8.19.14\r\n",
      "types-pytz                    2023.3.1.1\r\n",
      "types-PyYAML                  6.0.12.12\r\n",
      "typing_extensions             4.5.0\r\n",
      "typing-utils                  0.1.0\r\n",
      "tzdata                        2023.3\r\n",
      "unicodedata2                  15.1.0\r\n",
      "uri-template                  1.3.0\r\n",
      "urllib3                       1.26.17\r\n",
      "uvicorn                       0.23.2\r\n",
      "virtualenv                    20.23.1\r\n",
      "wandb                         0.15.12\r\n",
      "wcwidth                       0.2.8\r\n",
      "webcolors                     1.13\r\n",
      "webencodings                  0.5.1\r\n",
      "websocket-client              1.6.4\r\n",
      "websockets                    10.4\r\n",
      "Werkzeug                      3.0.1\r\n",
      "wheel                         0.41.2\r\n",
      "widgetsnbextension            4.0.9\r\n",
      "wolframalpha                  5.0.0\r\n",
      "wrapt                         1.15.0\r\n",
      "xgboost                       1.7.6\r\n",
      "xmltodict                     0.13.0\r\n",
      "xxhash                        3.4.1\r\n",
      "yarl                          1.9.2\r\n",
      "zipp                          3.17.0\r\n",
      "zope.event                    5.0\r\n",
      "zope.interface                6.1\r\n",
      "zstandard                     0.21.0\r\n",
      "Note: you may need to restart the kernel to use updated packages.\n"
     ]
    }
   ],
   "source": [
    "%pip list"
   ]
  },
  {
   "cell_type": "code",
   "execution_count": null,
   "id": "399ea6f7",
   "metadata": {},
   "outputs": [],
   "source": [
    "%pip install openai==0.28"
   ]
  },
  {
   "cell_type": "markdown",
   "id": "38b0a212-2c49-4fda-adce-1b112ca0ba02",
   "metadata": {
    "nteract": {
     "transient": {
      "deleting": false
     }
    }
   },
   "source": [
    "## Use case: Retrieve structured data from unstructured document"
   ]
  },
  {
   "cell_type": "markdown",
   "id": "04e1bfd0-6eca-4e37-9d40-b432e2d04adf",
   "metadata": {
    "nteract": {
     "transient": {
      "deleting": false
     }
    }
   },
   "source": [
    "Ensure openai module is listed in the above command. If not use pip to install before running the below cell - %pip install --upgrade openai"
   ]
  },
  {
   "cell_type": "code",
   "execution_count": 2,
   "id": "46bfd976-2d55-47ac-b18f-9a328fa4084d",
   "metadata": {
    "jupyter": {
     "outputs_hidden": false,
     "source_hidden": false
    },
    "microsoft": {
     "language": "python",
     "language_group": "synapse_pyspark"
    },
    "nteract": {
     "transient": {
      "deleting": false
     }
    }
   },
   "outputs": [
    {
     "data": {
      "application/vnd.livy.statement-meta+json": {
       "execution_finish_time": "2025-04-23T15:51:52.8706898Z",
       "execution_start_time": "2025-04-23T15:51:50.6142778Z",
       "livy_statement_state": "available",
       "normalized_state": "finished",
       "parent_msg_id": "65244c49-2909-4cbc-92c1-e57d7e3b3a70",
       "queued_time": "2025-04-23T15:51:50.6132249Z",
       "session_id": "c94e35b6-5aa8-430f-96f7-c4febc000bcf",
       "session_start_time": null,
       "spark_pool": null,
       "state": "finished",
       "statement_id": 4,
       "statement_ids": [
        4
       ]
      },
      "text/plain": [
       "StatementMeta(, c94e35b6-5aa8-430f-96f7-c4febc000bcf, 4, Finished, Available, Finished)"
      ]
     },
     "metadata": {},
     "output_type": "display_data"
    }
   ],
   "source": [
    "import openai\n",
    "# intialize deployment id\n",
    "deployment_id = \"gpt-4o\""
   ]
  },
  {
   "cell_type": "code",
   "execution_count": null,
   "id": "fcddd4f1",
   "metadata": {},
   "outputs": [],
   "source": [
    "content = \"Summarize the latest trends in automotive cockpit technologies and predict emerging customer demands in the North American market for the next 3 years.\"\n",
    "#system = \"You are acting as a Panasonic North America Data Analyst.Your role is to:Analyze complex business datasets from manufacturing, supply chain, automotive, and energy sectors.Identify key trends, anomalies, and actionable insights.Summarize findings in a clear, concise, and business-driven manner.Recommend next steps or strategic actions based on the data analysis.Focus on:Improving operational efficiency, product quality, and customer satisfaction.Supporting data-driven decision making for executives and business units.Providing visualizations (tables, charts) where appropriate to enhance understanding.Your responses should be structured professionally, with clear headings such as Findings, Analysis, Recommendations, and Next Steps.\"\n",
    "#messages = [{\"role\": \"system\",\"content\":system},{\"role\": \"user\",\"content\":content}]\n",
    "messages = [{\"role\": \"user\",\"content\":content}]\n",
    "\n",
    "response = openai.ChatCompletion.create(\n",
    "    engine=deployment_id,        # Specify the deployment engine ID.\n",
    "    messages=messages,           # Input messages to the chat model.\n",
    "    temperature=0,               # Controls the randomness of the response. 0 means no randomness.\n",
    "    max_tokens=3000,             # Maximum number of tokens to generate in the response.\n",
    "    top_p=0.95,                  # Controls the diversity of the outputs. 0.95 allows for diversity.\n",
    "    frequency_penalty=0,         # Penalizes new tokens based on their frequency in text so far.\n",
    "    presence_penalty=0,          # Penalizes new tokens if they appear in the text so far.\n",
    "    stop=''                   # Specifies a stopping sequence for the generated text.\n",
    ")\n",
    "print(response)  # Return the API response"
   ]
  },
  {
   "cell_type": "code",
   "execution_count": 3,
   "id": "e8ba18e0-8978-4554-9aab-1a4d6314fb33",
   "metadata": {
    "jupyter": {
     "outputs_hidden": false,
     "source_hidden": false
    },
    "microsoft": {
     "language": "python",
     "language_group": "synapse_pyspark"
    },
    "nteract": {
     "transient": {
      "deleting": false
     }
    }
   },
   "outputs": [
    {
     "data": {
      "application/vnd.livy.statement-meta+json": {
       "execution_finish_time": "2025-04-23T15:51:56.2228149Z",
       "execution_start_time": "2025-04-23T15:51:55.9708807Z",
       "livy_statement_state": "available",
       "normalized_state": "finished",
       "parent_msg_id": "cd2eed93-5197-4397-aa19-23f87b0d8e4e",
       "queued_time": "2025-04-23T15:51:55.9698172Z",
       "session_id": "c94e35b6-5aa8-430f-96f7-c4febc000bcf",
       "session_start_time": null,
       "spark_pool": null,
       "state": "finished",
       "statement_id": 5,
       "statement_ids": [
        5
       ]
      },
      "text/plain": [
       "StatementMeta(, c94e35b6-5aa8-430f-96f7-c4febc000bcf, 5, Finished, Available, Finished)"
      ]
     },
     "metadata": {},
     "output_type": "display_data"
    }
   ],
   "source": [
    "# define openai chat completion function\n",
    "def request_api(messages, deployment_id):\n",
    "    response = openai.ChatCompletion.create(\n",
    "        engine = deployment_id,\n",
    "        messages = messages,\n",
    "        temperature=0,\n",
    "        max_tokens=3000,\n",
    "        top_p=0.95,\n",
    "        frequency_penalty=0,\n",
    "        presence_penalty=0,\n",
    "        stop='###')\n",
    "    return response"
   ]
  },
  {
   "cell_type": "code",
   "execution_count": 4,
   "id": "726fef83-ab44-4d20-9707-46391591ff53",
   "metadata": {
    "jupyter": {
     "outputs_hidden": false,
     "source_hidden": false
    },
    "microsoft": {
     "language": "python",
     "language_group": "synapse_pyspark"
    },
    "nteract": {
     "transient": {
      "deleting": false
     }
    }
   },
   "outputs": [
    {
     "data": {
      "application/vnd.livy.statement-meta+json": {
       "execution_finish_time": "2025-04-23T15:52:00.3514511Z",
       "execution_start_time": "2025-04-23T15:52:00.0705676Z",
       "livy_statement_state": "available",
       "normalized_state": "finished",
       "parent_msg_id": "0b6ba318-9dc9-4744-aa2b-28377a7790fc",
       "queued_time": "2025-04-23T15:52:00.0694249Z",
       "session_id": "c94e35b6-5aa8-430f-96f7-c4febc000bcf",
       "session_start_time": null,
       "spark_pool": null,
       "state": "finished",
       "statement_id": 6,
       "statement_ids": [
        6
       ]
      },
      "text/plain": [
       "StatementMeta(, c94e35b6-5aa8-430f-96f7-c4febc000bcf, 6, Finished, Available, Finished)"
      ]
     },
     "metadata": {},
     "output_type": "display_data"
    }
   ],
   "source": [
    "# define function to get structured data\n",
    "def get_structured_data(document, prompt_postfix, deployment_id):\n",
    "    content = prompt_postfix.replace('<document>', document)\n",
    "    messages = [{\"role\":\"user\",\"content\":content},]\n",
    "\n",
    "    structured_data = request_api(messages, deployment_id)\n",
    "    return structured_data"
   ]
  },
  {
   "cell_type": "code",
   "execution_count": 5,
   "id": "0e7084bc-27e2-4a02-8656-52c32e1c6632",
   "metadata": {
    "jupyter": {
     "outputs_hidden": false,
     "source_hidden": false
    },
    "microsoft": {
     "language": "python",
     "language_group": "synapse_pyspark"
    },
    "nteract": {
     "transient": {
      "deleting": false
     }
    }
   },
   "outputs": [
    {
     "data": {
      "application/vnd.livy.statement-meta+json": {
       "execution_finish_time": "2025-04-23T15:52:06.0319523Z",
       "execution_start_time": "2025-04-23T15:52:03.6007003Z",
       "livy_statement_state": "available",
       "normalized_state": "finished",
       "parent_msg_id": "6d6c9e13-515e-43ba-b015-ccd51d22bba0",
       "queued_time": "2025-04-23T15:52:03.5995832Z",
       "session_id": "c94e35b6-5aa8-430f-96f7-c4febc000bcf",
       "session_start_time": null,
       "spark_pool": null,
       "state": "finished",
       "statement_id": 7,
       "statement_ids": [
        7
       ]
      },
      "text/plain": [
       "StatementMeta(, c94e35b6-5aa8-430f-96f7-c4febc000bcf, 7, Finished, Available, Finished)"
      ]
     },
     "metadata": {},
     "output_type": "display_data"
    },
    {
     "data": {
      "text/plain": [
       "\"Contact chew.yean.yam@gmail.com www.linkedin.com/in/cyyam (LinkedIn) Top Skills Research Microarray Analysis OpenCV Languages English (Native or Bilingual) Malay (Professional Working) Certifications Worldwide Communities - Community SME 2018 Fred Kofman on Managing Conflict Chew-Yean Yam AI Leader & Practitioner | Data Science | Machine Learning | AI Strategy United Kingdom Summary Over 20 years of industrial and applied research experience with global advanced technology companies and internationally renowned research institutions: Microsoft, Intel, HP Labs, Agency for Science Technology & Research, British Aerospace Engineering, National Physical Laboratory (UK). I build and lead Data Science and Machine Learning specialist teams to design and develop AI applications with start-ups and established enterprises. I advise on their AI strategies, identify commercial opportunities and code with them to deployment. Experienced in incubation of new AI capabilities for products. Experience in: Hands-on data driven and machine learning algorithms: classical and deep learning, applied to computer vision, text analytics, time-series, predictive models, from conception, architecting to deployment. Applied in wide range of domains and industries: biometrics, unmanned air vehicles, ecommerce, advertising, areal sensing, conservation, security, finance, insurance, transport, media entertainment, gaming. Giving back: I mentor women who wants to get into STEM career through active involvements via Women Tech Hub (https:// www.wthub.org/), run Data Science and Machine Learning Workshop on a regular basis and has been on Advisory Board for Data Science and Machine Learning, University of Bristol. Experience Microsoft 8 years 2 months Page 1 of 7 Principal Data and Applied Scientist December 2021 - Present (1 year 6 months) Design and build AI applications with enterprises in Latin America Region across industries. Advise on their AI strategies, identify commercial opportunities and code with them to deployment. Translate business requirements into machine learning solution. Principal Data and Applied Scientist December 2019 - December 2021 (2 years 1 month) Design and build AI Capabilities with enterprises : • Recommender engine for media streaming company • Information extraction from images and texts for oil and gas company AI Incubator | Design, build and incubate AI and Data Analytics capabilities : • Media Industry aligned with the MovieLabs Ontology for Media Creation, with direct engagement with major Hollywood’s studios, such as Disney’s, Warner Brothers and Universal. Extract entities specific for media creation from written (movie) scripts, and represented as a knowledge graph for subsequent usage in the media production process, e.g. entities linking, information retrieval, knowledge graph. • Gaming Industry Customer Churn and Data Analytics capabilities for Gaming Platform Playfab. Principal Data and Applied Science Manager May 2018 - November 2019 (1 year 7 months) Lead a Data Science team. Design and build many AI applications with enterprises in the EMEA region across industries. Advise on their AI strategies, identify commercial opportunities and code with them to deployment. Translate business requirements into machine learning solution. Hands-on with enterprises engineering team and build custom machine learning models. Principal Data and Applied Scientist April 2015 - April 2018 (3 years 1 month) Page 2 of 7 London, United Kingdom Design and build many AI applications with enterprises world-wide across industries. Advise on their AI strategies, identify commercial opportunities and code with them to deployment. Data Science and Machine Learning Study Group (MeetUp) Co-Founder/Organizer November 2019 - Present (3 years 7 months) Bristol, United Kingdom The vision of this community group is to empower every single person in Bristol and surrounding areas to achieve quality Machine Learning and Data Science knowledge, so that they can go on and do great things that benefit the quality of life of fellow earth citizens. https://www.meetup.com/Bristol-Data-Science-and-Machine-Learning-StudyGroup/ University of Bristol External Advisory Board Member January 2019 - Present (4 years 5 months) Voluntary. Advice on Data Science and Machine Learning related courses, bringing academia and industry closer, diversity and inclusion. BAE Systems Principal Research Scientist April 2013 - March 2015 (2 years) Application domains: - Text Document Analysis - Event Detection and Extraction - Health Impact Assessment - Unmanned Aerial Vehicle (UAV) - ASTREA. http://astraea.aero/ Hewlett-Packard Laboratories Research Scientist November 2010 - October 2012 (2 years) Application domains: - Cloud Computing Stewardship and Economics. Page 3 of 7 - Discrete event model and simulation of interaction within cloud computing ecosystem to predict consequences of information stewardship issues and economics implications in cloud computing adoption. Publications: C.-Y. Yam, A. Baldwin, C. Ioannidis, S. Shiu, Migration to Cloud as Real Option: Investment decision under uncertainty, IEEE TrustCom Symposiums & Workshops, Nov 2011. A. Baldwin, Y. Beres, L. Carrotte, T. Koulouris, B. Monahan, D. Pym, S. Shiu, and C.Y. Yam, Exploring Information Stewardship with the Cloud Ecosystem Model, 9th International Conference on Modeling, Simulation and Visualization Methods, July 2012 National Physical Laboratory Senior Scientist October 2007 - March 2010 (2 years 6 months) National Measurement Institute, world-leader in measurement standards, science and technology. Application domains: - Biometrics, Anti-Counterfeit(Bank notes, Barcode, Printing on packaging) - Error Analysis in 3-D Face Reconstruction, Image Correlation, Uncertainty propagation through an imaging system. - Design, develop, implement complex experiments, gather and process large data set, perform statistical data analysis, draw conclusions and provide recommendations backed by scientific facts to improve product. University of Southampton, Electronics and Computer Science Page 4 of 7 Research Scientist January 2007 - September 2007 (9 months) Largest in UK, 5* in Research Assessment Exercises, 'Best 5*' in Higher Education Funding Council. Application domains: - Human Motion, Biometrics. - Course delivery and project formulation. Publications: C.-Y. Yam and M. S. Nixon, Model-based Gait Recognition, Chapter in Encyclopedia of Biometrics, Springer 2009 Intel Senior Technical Marketing Engineer August 2004 - November 2006 (2 years 4 months) The world's largest and leader for semiconductors and microprocessors. - Digital Security Surveillance - Authored technical articles - Developed demonstration kit. Invention Disclosure: - IP.COM, “Method for human-to-computer interaction by LIDAR-based gesture recognition and interpretation.” IPCOM000143795D, 2006. A*STAR - Agency for Science, Technology and Research Research Fellow April 2003 - July 2004 (1 year 4 months) Signal processing, statistics. Application domains: - Micro-array Analysis, Bioinformatics. - Requirement Analysis and Software Design. Publication: Page 5 of 7 S-W Chua, P. Vijayakumar, P. M. Nissom, C.-Y. Yam, V. V. T. Wong and H. Yang. A novel normalization method for effective removal of systematic variation in microarray data. Nucleic Acids Research, Vol.34, No. 5, 2006. University of Southampton - Electronics and Computer Science Research Consultant January 2002 - December 2002 (1 year) Computer vision, time-series analytic, pattern recognition, laboratory design, large data collection and processing. Application domains: - Invented first model-based walking and running gait biometrics system for person, gender and age-group identification. - Human gait as Biometrics Lab (first and largest) - US Defence Advanced Research Projects Agency (DARPA): Gait as Biometric– Automatic Gait Recognition for Human ID at a Distance. - Designed and set up first of its kind Biometrics Gait Laboratory in the world. - Model-based motion modelling and spatial-temporal feature extraction. Tools: Matlab, C, Java, Java Advanced Imaging (JAI). Publications: C.-Y. Yam, M. S. Nixon and J. N. Carter, Extended Model-based Automatic Gait Recognition of Walking and Running, 3rd Proc. Audio- and Video-Based Biometric Person Authentication, pp 284-294, 2001. C.-Y. Yam, M. S. Nixon and J. N. Carter, Performance Analysis on New Biometric Gait Motion Model, 5th IEEE Southwest Symposium on Image Page 6 of 7 C.-Y. Yam, M. S. Nixon and J. N. Carter, Automated Markerless Analysis of Human Walking and Running by Computer Vision, IV World Congress Biomechanics, 2002. Education University of Southampton Ph.D., Computer Vision, Image Processing, Human Motion Modelling, Biometrics · (1999 - 2002) University of Southampton B. Eng., Computer Engineering · (1997 - 1999) Page 7 of 7\""
      ]
     },
     "metadata": {},
     "output_type": "display_data"
    }
   ],
   "source": [
    "# read sample resume\n",
    "\n",
    "df = spark.read.text(\"Files/unstructured_data/resume.txt\")\n",
    "\n",
    "document = ' '.join([str(x.asDict()['value']) for x in df.collect()])\n",
    "display(document)"
   ]
  },
  {
   "cell_type": "code",
   "execution_count": 6,
   "id": "940d2a07-f4b5-41d1-bad1-f3cbc5666c4e",
   "metadata": {
    "jupyter": {
     "outputs_hidden": false,
     "source_hidden": false
    },
    "microsoft": {
     "language": "python",
     "language_group": "synapse_pyspark"
    },
    "nteract": {
     "transient": {
      "deleting": false
     }
    }
   },
   "outputs": [
    {
     "data": {
      "application/vnd.livy.statement-meta+json": {
       "execution_finish_time": "2025-04-23T15:53:36.0647172Z",
       "execution_start_time": "2025-04-23T15:52:20.7461147Z",
       "livy_statement_state": "available",
       "normalized_state": "finished",
       "parent_msg_id": "f5f03e1e-8c2e-4475-ab1e-ee2f368fb06b",
       "queued_time": "2025-04-23T15:52:20.7449432Z",
       "session_id": "c94e35b6-5aa8-430f-96f7-c4febc000bcf",
       "session_start_time": null,
       "spark_pool": null,
       "state": "finished",
       "statement_id": 8,
       "statement_ids": [
        8
       ]
      },
      "text/plain": [
       "StatementMeta(, c94e35b6-5aa8-430f-96f7-c4febc000bcf, 8, Finished, Available, Finished)"
      ]
     },
     "metadata": {},
     "output_type": "display_data"
    }
   ],
   "source": [
    "# prompt\n",
    "prompt_postfix = \"\"\" <document>\n",
    "  \\n###\n",
    "  \\nExtract the key sections from the resume above into json.\n",
    "\"\"\"\n",
    "structured_data = get_structured_data(document, prompt_postfix, deployment_id)"
   ]
  },
  {
   "cell_type": "code",
   "execution_count": 7,
   "id": "e0967281-fde0-47ec-b94f-1f5adf91cb2b",
   "metadata": {
    "jupyter": {
     "outputs_hidden": false,
     "source_hidden": false
    },
    "microsoft": {
     "language": "python",
     "language_group": "synapse_pyspark"
    },
    "nteract": {
     "transient": {
      "deleting": false
     }
    }
   },
   "outputs": [
    {
     "data": {
      "application/vnd.livy.statement-meta+json": {
       "execution_finish_time": "2025-04-23T15:53:56.1341876Z",
       "execution_start_time": "2025-04-23T15:53:55.8534071Z",
       "livy_statement_state": "available",
       "normalized_state": "finished",
       "parent_msg_id": "003fe53e-8104-4e14-b459-dff8e68e4ee4",
       "queued_time": "2025-04-23T15:53:55.8522191Z",
       "session_id": "c94e35b6-5aa8-430f-96f7-c4febc000bcf",
       "session_start_time": null,
       "spark_pool": null,
       "state": "finished",
       "statement_id": 9,
       "statement_ids": [
        9
       ]
      },
      "text/plain": [
       "StatementMeta(, c94e35b6-5aa8-430f-96f7-c4febc000bcf, 9, Finished, Available, Finished)"
      ]
     },
     "metadata": {},
     "output_type": "display_data"
    },
    {
     "name": "stdout",
     "output_type": "stream",
     "text": [
      "```json\n",
      "{\n",
      "  \"contact\": {\n",
      "    \"email\": \"chew.yean.yam@gmail.com\",\n",
      "    \"linkedin\": \"www.linkedin.com/in/cyyam\"\n",
      "  },\n",
      "  \"top_skills\": [\n",
      "    \"Research\",\n",
      "    \"Microarray Analysis\",\n",
      "    \"OpenCV\"\n",
      "  ],\n",
      "  \"languages\": {\n",
      "    \"English\": \"Native or Bilingual\",\n",
      "    \"Malay\": \"Professional Working\"\n",
      "  },\n",
      "  \"certifications\": [\n",
      "    \"Worldwide Communities - Community SME 2018\",\n",
      "    \"Fred Kofman on Managing Conflict\"\n",
      "  ],\n",
      "  \"summary\": \"Over 20 years of industrial and applied research experience with global advanced technology companies and internationally renowned research institutions: Microsoft, Intel, HP Labs, Agency for Science Technology & Research, British Aerospace Engineering, National Physical Laboratory (UK). I build and lead Data Science and Machine Learning specialist teams to design and develop AI applications with start-ups and established enterprises. I advise on their AI strategies, identify commercial opportunities and code with them to deployment. Experienced in incubation of new AI capabilities for products.\",\n",
      "  \"experience\": [\n",
      "    {\n",
      "      \"company\": \"Microsoft\",\n",
      "      \"duration\": \"8 years 2 months\",\n",
      "      \"roles\": [\n",
      "        {\n",
      "          \"title\": \"Principal Data and Applied Scientist\",\n",
      "          \"duration\": \"December 2021 - Present (1 year 6 months)\",\n",
      "          \"responsibilities\": \"Design and build AI applications with enterprises in Latin America Region across industries. Advise on their AI strategies, identify commercial opportunities and code with them to deployment. Translate business requirements into machine learning solution.\"\n",
      "        },\n",
      "        {\n",
      "          \"title\": \"Principal Data and Applied Scientist\",\n",
      "          \"duration\": \"December 2019 - December 2021 (2 years 1 month)\",\n",
      "          \"responsibilities\": \"Design and build AI Capabilities with enterprises: Recommender engine for media streaming company, Information extraction from images and texts for oil and gas company. AI Incubator: Design, build and incubate AI and Data Analytics capabilities for Media Industry and Gaming Industry.\"\n",
      "        },\n",
      "        {\n",
      "          \"title\": \"Principal Data and Applied Science Manager\",\n",
      "          \"duration\": \"May 2018 - November 2019 (1 year 7 months)\",\n",
      "          \"responsibilities\": \"Lead a Data Science team. Design and build many AI applications with enterprises in the EMEA region across industries. Advise on their AI strategies, identify commercial opportunities and code with them to deployment. Hands-on with enterprises engineering team and build custom machine learning models.\"\n",
      "        },\n",
      "        {\n",
      "          \"title\": \"Principal Data and Applied Scientist\",\n",
      "          \"duration\": \"April 2015 - April 2018 (3 years 1 month)\",\n",
      "          \"responsibilities\": \"Design and build many AI applications with enterprises world-wide across industries. Advise on their AI strategies, identify commercial opportunities and code with them to deployment.\"\n",
      "        }\n",
      "      ]\n",
      "    },\n",
      "    {\n",
      "      \"company\": \"Data Science and Machine Learning Study Group (MeetUp)\",\n",
      "      \"duration\": \"November 2019 - Present (3 years 7 months)\",\n",
      "      \"title\": \"Co-Founder/Organizer\",\n",
      "      \"responsibilities\": \"Empower every single person in Bristol and surrounding areas to achieve quality Machine Learning and Data Science knowledge.\"\n",
      "    },\n",
      "    {\n",
      "      \"company\": \"University of Bristol\",\n",
      "      \"duration\": \"January 2019 - Present (4 years 5 months)\",\n",
      "      \"title\": \"External Advisory Board Member\",\n",
      "      \"responsibilities\": \"Voluntary. Advice on Data Science and Machine Learning related courses, bringing academia and industry closer, diversity and inclusion.\"\n",
      "    },\n",
      "    {\n",
      "      \"company\": \"BAE Systems\",\n",
      "      \"duration\": \"April 2013 - March 2015 (2 years)\",\n",
      "      \"title\": \"Principal Research Scientist\",\n",
      "      \"responsibilities\": \"Application domains: Text Document Analysis, Event Detection and Extraction, Health Impact Assessment, Unmanned Aerial Vehicle (UAV).\"\n",
      "    },\n",
      "    {\n",
      "      \"company\": \"Hewlett-Packard Laboratories\",\n",
      "      \"duration\": \"November 2010 - October 2012 (2 years)\",\n",
      "      \"title\": \"Research Scientist\",\n",
      "      \"responsibilities\": \"Application domains: Cloud Computing Stewardship and Economics. Publications: C.-Y. Yam, A. Baldwin, C. Ioannidis, S. Shiu, Migration to Cloud as Real Option: Investment decision under uncertainty, IEEE TrustCom Symposiums & Workshops, Nov 2011. A. Baldwin, Y. Beres, L. Carrotte, T. Koulouris, B. Monahan, D. Pym, S. Shiu, and C.Y. Yam, Exploring Information Stewardship with the Cloud Ecosystem Model, 9th International Conference on Modeling, Simulation and Visualization Methods, July 2012.\"\n",
      "    },\n",
      "    {\n",
      "      \"company\": \"National Physical Laboratory\",\n",
      "      \"duration\": \"October 2007 - March 2010 (2 years 6 months)\",\n",
      "      \"title\": \"Senior Scientist\",\n",
      "      \"responsibilities\": \"Application domains: Biometrics, Anti-Counterfeit (Bank notes, Barcode, Printing on packaging), Error Analysis in 3-D Face Reconstruction, Image Correlation, Uncertainty propagation through an imaging system.\"\n",
      "    },\n",
      "    {\n",
      "      \"company\": \"University of Southampton, Electronics and Computer Science\",\n",
      "      \"duration\": \"January 2007 - September 2007 (9 months)\",\n",
      "      \"title\": \"Research Scientist\",\n",
      "      \"responsibilities\": \"Application domains: Human Motion, Biometrics. Publications: C.-Y. Yam and M. S. Nixon, Model-based Gait Recognition, Chapter in Encyclopedia of Biometrics, Springer 2009.\"\n",
      "    },\n",
      "    {\n",
      "      \"company\": \"Intel\",\n",
      "      \"duration\": \"August 2004 - November 2006 (2 years 4 months)\",\n",
      "      \"title\": \"Senior Technical Marketing Engineer\",\n",
      "      \"responsibilities\": \"Digital Security Surveillance. Authored technical articles. Developed demonstration kit. Invention Disclosure: IP.COM, “Method for human-to-computer interaction by LIDAR-based gesture recognition and interpretation.” IPCOM000143795D, 2006.\"\n",
      "    },\n",
      "    {\n",
      "      \"company\": \"A*STAR - Agency for Science, Technology and Research\",\n",
      "      \"duration\": \"April 2003 - July 2004 (1 year 4 months)\",\n",
      "      \"title\": \"Research Fellow\",\n",
      "      \"responsibilities\": \"Signal processing, statistics. Application domains: Micro-array Analysis, Bioinformatics. Publication: S-W Chua, P. Vijayakumar, P. M. Nissom, C.-Y. Yam, V. V. T. Wong and H. Yang. A novel normalization method for effective removal of systematic variation in microarray data. Nucleic Acids Research, Vol.34, No. 5, 2006.\"\n",
      "    },\n",
      "    {\n",
      "      \"company\": \"University of Southampton - Electronics and Computer Science\",\n",
      "      \"duration\": \"January 2002 - December 2002 (1 year)\",\n",
      "      \"title\": \"Research Consultant\",\n",
      "      \"responsibilities\": \"Computer vision, time-series analytic, pattern recognition, laboratory design, large data collection and processing. Application domains: Invented first model-based walking and running gait biometrics system for person, gender and age-group identification. Publications: C.-Y. Yam, M. S. Nixon and J. N. Carter, Extended Model-based Automatic Gait Recognition of Walking and Running, 3rd Proc. Audio- and Video-Based Biometric Person Authentication, pp 284-294, 2001. C.-Y. Yam, M. S. Nixon and J. N. Carter, Performance Analysis on New Biometric Gait Motion Model, 5th IEEE Southwest Symposium on Image. C.-Y. Yam, M. S. Nixon and J. N. Carter, Automated Markerless Analysis of Human Walking and Running by Computer Vision, IV World Congress Biomechanics, 2002.\"\n",
      "    }\n",
      "  ],\n",
      "  \"education\": [\n",
      "    {\n",
      "      \"institution\": \"University of Southampton\",\n",
      "      \"degree\": \"Ph.D.\",\n",
      "      \"field_of_study\": \"Computer Vision, Image Processing, Human Motion Modelling, Biometrics\",\n",
      "      \"years\": \"1999 - 2002\"\n",
      "    },\n",
      "    {\n",
      "      \"institution\": \"University of Southampton\",\n",
      "      \"degree\": \"B. Eng.\",\n",
      "      \"field_of_study\": \"Computer Engineering\",\n",
      "      \"years\": \"1997 - 1999\"\n",
      "    }\n",
      "  ]\n",
      "}\n",
      "```\n"
     ]
    }
   ],
   "source": [
    "# print result\n",
    "print(structured_data['choices'][0]['message']['content'])"
   ]
  }
 ],
 "metadata": {
  "a365ComputeOptions": null,
  "dependencies": {
   "lakehouse": {
    "default_lakehouse": "cf88674c-2b78-4d41-97cb-70f330d061c1",
    "default_lakehouse_name": "FabricDSLakehouse",
    "default_lakehouse_workspace_id": "ccc54fc9-6439-4666-be76-7986ade083b3",
    "known_lakehouses": [
     {
      "id": "cf88674c-2b78-4d41-97cb-70f330d061c1"
     }
    ]
   }
  },
  "kernel_info": {
   "name": "synapse_pyspark"
  },
  "kernelspec": {
   "display_name": "Synapse PySpark",
   "language": "Python",
   "name": "synapse_pyspark"
  },
  "language_info": {
   "name": "python"
  },
  "microsoft": {
   "language": "python",
   "language_group": "synapse_pyspark",
   "ms_spell_check": {
    "ms_spell_check_language": "en"
   }
  },
  "nteract": {
   "version": "nteract-front-end@1.0.0"
  },
  "sessionKeepAliveTimeout": 0,
  "spark_compute": {
   "compute_id": "/trident/default",
   "session_options": {
    "conf": {
     "spark.synapse.nbs.session.timeout": "1200000"
    }
   }
  },
  "widgets": {}
 },
 "nbformat": 4,
 "nbformat_minor": 5
}
